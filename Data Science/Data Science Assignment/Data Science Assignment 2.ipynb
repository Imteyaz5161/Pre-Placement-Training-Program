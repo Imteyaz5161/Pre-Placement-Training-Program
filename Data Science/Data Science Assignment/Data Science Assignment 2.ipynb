{
 "cells": [
  {
   "cell_type": "markdown",
   "id": "0de076f4-afc6-4c7d-80e9-e6164e54c1fb",
   "metadata": {},
   "source": [
    "# Data Science Assignment 2"
   ]
  },
  {
   "cell_type": "markdown",
   "id": "f231c916-a497-4609-a935-1b49a2320b19",
   "metadata": {},
   "source": [
    "**1. Scenario: A company wants to analyze the sales performance of its products in different regions. They have collected the following data:**\n",
    "\n",
    "   Region A: [10, 15, 12, 8, 14]\n",
    "\n",
    "   Region B: [18, 20, 16, 22, 25]\n",
    "\n",
    "   **Calculate the mean sales for each region.**\n",
    "\n"
   ]
  },
  {
   "cell_type": "code",
   "execution_count": 10,
   "id": "b9a84192-2cef-4838-96a3-940996fdcc27",
   "metadata": {},
   "outputs": [
    {
     "name": "stdout",
     "output_type": "stream",
     "text": [
      "Mean sales for Region A: 11.80\n",
      "Mean sales for Region B: 20.20\n"
     ]
    }
   ],
   "source": [
    "def calculate_mean(sales_data):\n",
    "    total_sales = sum(sales_data)\n",
    "    num_values = len(sales_data)\n",
    "    mean = total_sales / num_values\n",
    "    return mean\n",
    "\n",
    "sales_region_a = [10, 15, 12, 8, 14]\n",
    "sales_region_b = [18, 20, 16, 22, 25]\n",
    "\n",
    "mean_sales_region_a = calculate_mean(sales_region_a)\n",
    "mean_sales_region_b = calculate_mean(sales_region_b)\n",
    "\n",
    "print(f\"Mean sales for Region A: {mean_sales_region_a:.2f}\")\n",
    "print(f\"Mean sales for Region B: {mean_sales_region_b:.2f}\")\n"
   ]
  },
  {
   "cell_type": "markdown",
   "id": "b9a256b8-2dfa-489c-ba00-9fc78d0a6b27",
   "metadata": {},
   "source": [
    "**2. Scenario: A survey is conducted to measure customer satisfaction on a scale of 1 to 5. The data collected is as follows:**\n",
    "    \n",
    "   [4, 5, 2, 3, 5, 4, 3, 2, 4, 5]\n",
    "    \n",
    "   **Calculate the mode of the survey responses.**\n"
   ]
  },
  {
   "cell_type": "code",
   "execution_count": 11,
   "id": "3d2c9887-dbe3-4cae-84a8-d5d676392804",
   "metadata": {},
   "outputs": [
    {
     "name": "stdout",
     "output_type": "stream",
     "text": [
      "Mode(s) of the survey responses: [4, 5]\n"
     ]
    }
   ],
   "source": [
    "from collections import Counter\n",
    "\n",
    "survey_responses = [4, 5, 2, 3, 5, 4, 3, 2, 4, 5]\n",
    "\n",
    "# Count the occurrences of each response\n",
    "response_counts = Counter(survey_responses)\n",
    "\n",
    "# Find the mode(s) by finding the value(s) with the maximum count\n",
    "max_count = max(response_counts.values())\n",
    "modes = [response for response, count in response_counts.items() if count == max_count]\n",
    "\n",
    "print(\"Mode(s) of the survey responses:\", modes)"
   ]
  },
  {
   "cell_type": "markdown",
   "id": "2d853ac8-dbc5-462b-a666-1512034fa2d2",
   "metadata": {},
   "source": [
    "**OR**"
   ]
  },
  {
   "cell_type": "code",
   "execution_count": 12,
   "id": "8227ddb4-5bc8-4de4-8f4f-22caadef0724",
   "metadata": {},
   "outputs": [
    {
     "name": "stdout",
     "output_type": "stream",
     "text": [
      "The mode of the survey responses is: 4\n"
     ]
    }
   ],
   "source": [
    "from collections import Counter\n",
    "\n",
    "def calculate_mode(data):\n",
    "    counter = Counter(data)\n",
    "    mode = counter.most_common(1)[0][0]\n",
    "    return mode\n",
    "\n",
    "survey_responses = [4, 5, 2, 3, 5, 4, 3, 2, 4, 5]\n",
    "\n",
    "mode_survey = calculate_mode(survey_responses)\n",
    "print(f\"The mode of the survey responses is: {mode_survey}\")\n"
   ]
  },
  {
   "cell_type": "markdown",
   "id": "7fc66366-af0e-4332-85be-0d1f2628e12a",
   "metadata": {},
   "source": [
    "**3. Scenario: A company wants to compare the salaries of two departments. The salary data for Department A and Department B are as follows:**\n",
    "    \n",
    "   Department A: [5000, 6000, 5500, 7000]\n",
    "\n",
    "   Department B: [4500, 5500, 5800, 6000, 5200]\n",
    "\n",
    "  **Calculate the median salary for each department.**\n"
   ]
  },
  {
   "cell_type": "code",
   "execution_count": 13,
   "id": "86f7bc4a-d9a3-4e95-b2b5-60b1662d4313",
   "metadata": {},
   "outputs": [
    {
     "name": "stdout",
     "output_type": "stream",
     "text": [
      "Median salary for Department A: 5750.0\n",
      "Median salary for Department B: 5500\n"
     ]
    }
   ],
   "source": [
    "def calculate_median_salary(salary_data):\n",
    "    sorted_salaries = sorted(salary_data)\n",
    "    num_salaries = len(sorted_salaries)\n",
    "    mid_index = num_salaries // 2\n",
    "\n",
    "    if num_salaries % 2 == 1:\n",
    "        median_salary = sorted_salaries[mid_index]\n",
    "    else:\n",
    "        median_salary = (sorted_salaries[mid_index - 1] + sorted_salaries[mid_index]) / 2\n",
    "\n",
    "    return median_salary\n",
    "\n",
    "department_a_salaries = [5000, 6000, 5500, 7000]\n",
    "department_b_salaries = [4500, 5500, 5800, 6000, 5200]\n",
    "\n",
    "median_salary_department_a = calculate_median_salary(department_a_salaries)\n",
    "median_salary_department_b = calculate_median_salary(department_b_salaries)\n",
    "\n",
    "print(\"Median salary for Department A:\", median_salary_department_a)\n",
    "print(\"Median salary for Department B:\", median_salary_department_b)\n"
   ]
  },
  {
   "cell_type": "markdown",
   "id": "d072e066-3270-4293-9335-d6ffd5762bfa",
   "metadata": {},
   "source": [
    "**OR**"
   ]
  },
  {
   "cell_type": "code",
   "execution_count": 15,
   "id": "bf35d23f-dafe-40a0-9a13-fa4b57ffad21",
   "metadata": {},
   "outputs": [
    {
     "name": "stdout",
     "output_type": "stream",
     "text": [
      "Median salary for Department A: 5750.00\n",
      "Median salary for Department B: 5500.00\n"
     ]
    }
   ],
   "source": [
    "def calculate_median(salary_data):\n",
    "    sorted_data = sorted(salary_data)\n",
    "    n = len(sorted_data)\n",
    "    \n",
    "    if n % 2 == 1:\n",
    "        median = sorted_data[n // 2]\n",
    "    else:\n",
    "        middle1 = sorted_data[n // 2 - 1]\n",
    "        middle2 = sorted_data[n // 2]\n",
    "        median = (middle1 + middle2) / 2\n",
    "    \n",
    "    return median\n",
    "\n",
    "salary_department_a = [5000, 6000, 5500, 7000]\n",
    "salary_department_b = [4500, 5500, 5800, 6000, 5200]\n",
    "\n",
    "median_salary_department_a = calculate_median(salary_department_a)\n",
    "median_salary_department_b = calculate_median(salary_department_b)\n",
    "\n",
    "print(f\"Median salary for Department A: {median_salary_department_a:.2f}\")\n",
    "print(f\"Median salary for Department B: {median_salary_department_b:.2f}\")\n"
   ]
  },
  {
   "cell_type": "markdown",
   "id": "a0373bdf-f0a5-4740-92c1-f63de66789a0",
   "metadata": {},
   "source": [
    "**4. Scenario: A data analyst wants to determine the variability in the daily stock prices of a company. The data collected is as follows:**\n",
    "    \n",
    "   [25.5, 24.8, 26.1, 25.3, 24.9]\n",
    "\n",
    "   **Calculate the range of the stock prices.**\n"
   ]
  },
  {
   "cell_type": "code",
   "execution_count": 17,
   "id": "beacc0d8-5498-456f-9683-f22ca1ba3dc2",
   "metadata": {},
   "outputs": [
    {
     "name": "stdout",
     "output_type": "stream",
     "text": [
      "The range of the stock prices: 1.30\n"
     ]
    }
   ],
   "source": [
    "def calculate_range(data):\n",
    "    data_range = max(data) - min(data)\n",
    "    return data_range\n",
    "\n",
    "stock_prices = [25.5, 24.8, 26.1, 25.3, 24.9]\n",
    "\n",
    "price_range = calculate_range(stock_prices)\n",
    "\n",
    "print(f\"The range of the stock prices: {price_range:.2f}\")"
   ]
  },
  {
   "cell_type": "markdown",
   "id": "2cba7a1c-ba38-49ae-9254-52cd43ef4a77",
   "metadata": {},
   "source": [
    "**5. Scenario: A study is conducted to compare the performance of two different teaching methods. The test scores of the students in each group are as follows:**\n",
    "\n",
    "   Group A: [85, 90, 92, 88, 91]\n",
    "   \n",
    "   Group B: [82, 88, 90, 86, 87]\n",
    "   \n",
    "   **Perform a t-test to determine if there is a significant difference in the mean scores between the two groups.**\n"
   ]
  },
  {
   "cell_type": "code",
   "execution_count": 21,
   "id": "b4408d5a-2c83-4131-966b-9dcfbb951509",
   "metadata": {},
   "outputs": [
    {
     "name": "stdout",
     "output_type": "stream",
     "text": [
      "There is no significant difference between the mean scores of the two groups.\n"
     ]
    }
   ],
   "source": [
    "import scipy.stats as stats\n",
    "\n",
    "group_a_scores = [85, 90, 92, 88, 91]\n",
    "group_b_scores = [82, 88, 90, 86, 87]\n",
    "\n",
    "t_statistic, p_value = stats.ttest_ind(group_a_scores, group_b_scores)\n",
    "\n",
    "alpha = 0.05\n",
    "if p_value < alpha:\n",
    "    print(\"There is a significant difference between the mean scores of the two groups.\")\n",
    "else:\n",
    "    print(\"There is no significant difference between the mean scores of the two groups.\")\n"
   ]
  },
  {
   "cell_type": "markdown",
   "id": "b3958f08-a14a-4eed-885a-021cb36da542",
   "metadata": {},
   "source": [
    "**6. Scenario: A company wants to analyze the relationship between advertising expenditure and sales. The data collected is as follows:**\n",
    "\n",
    "   Advertising Expenditure (in thousands): [10, 15, 12, 8, 14]\n",
    "\n",
    "   Sales (in thousands): [25, 30, 28, 20, 26]\n",
    "\n",
    "   **Calculate the correlation coefficient between advertising expenditure and sales.**\n"
   ]
  },
  {
   "cell_type": "code",
   "execution_count": 23,
   "id": "5f65c9fd-c2e2-4ec7-90bc-a2117ccbebf8",
   "metadata": {},
   "outputs": [
    {
     "name": "stdout",
     "output_type": "stream",
     "text": [
      "Correlation coefficient: 0.8757511375750133\n"
     ]
    }
   ],
   "source": [
    "from scipy.stats import pearsonr\n",
    "\n",
    "advertising_expenditure = [10, 15, 12, 8, 14]\n",
    "sales = [25, 30, 28, 20, 26]\n",
    "\n",
    "correlation_coefficient, p_value = pearsonr(advertising_expenditure, sales)\n",
    "\n",
    "print(\"Correlation coefficient:\", correlation_coefficient)\n"
   ]
  },
  {
   "cell_type": "markdown",
   "id": "6712bb15-e666-4fe6-946a-dad1f666f661",
   "metadata": {},
   "source": [
    "**7. Scenario: A survey is conducted to measure the heights of a group of people. The data collected is as follows:**\n",
    "    \n",
    "   [160, 170, 165, 155, 175, 180, 170]\n",
    "    \n",
    "   **Calculate the standard deviation of the heights.**\n"
   ]
  },
  {
   "cell_type": "code",
   "execution_count": 26,
   "id": "68dacdb2-8a00-4a5c-ab83-6b1a2bad1e7b",
   "metadata": {},
   "outputs": [
    {
     "name": "stdout",
     "output_type": "stream",
     "text": [
      "The standard deviation of the heights: 7.95\n"
     ]
    }
   ],
   "source": [
    "import numpy as np\n",
    "\n",
    "def calculate_standard_deviation(data):\n",
    "    standard_deviation = np.std(data)\n",
    "    return standard_deviation\n",
    "\n",
    "heights = [160, 170, 165, 155, 175, 180, 170]\n",
    "\n",
    "std_deviation = calculate_standard_deviation(heights)\n",
    "\n",
    "print(f\"The standard deviation of the heights: {std_deviation:.2f}\")\n"
   ]
  },
  {
   "cell_type": "markdown",
   "id": "c97332e5-c82a-4a9b-882a-acd83ec693b1",
   "metadata": {},
   "source": [
    "**8. Scenario: A company wants to analyze the relationship between employee tenure and job satisfaction. The data collected is as follows:**\n",
    "    \n",
    "   Employee Tenure (in years): [2, 3, 5, 4, 6, 2, 4]\n",
    "    \n",
    "   Job Satisfaction (on a scale of 1 to 10): [7, 8, 6, 9, 5, 7, 6]\n",
    "\n",
    "   **Perform a linear regression analysis to predict job satisfaction based on employee tenure.**\n"
   ]
  },
  {
   "cell_type": "code",
   "execution_count": 28,
   "id": "afcb76c9-0508-4bc4-90db-e2559d6bfa3f",
   "metadata": {},
   "outputs": [
    {
     "name": "stdout",
     "output_type": "stream",
     "text": [
      "Regression equation: Job Satisfaction = -0.47 * Employee Tenure + 8.60\n"
     ]
    }
   ],
   "source": [
    "from sklearn.linear_model import LinearRegression\n",
    "import numpy as np\n",
    "\n",
    "def perform_linear_regression(x_data, y_data):\n",
    "    model = LinearRegression()\n",
    "    model.fit(x_data, y_data)\n",
    "    slope = model.coef_[0]\n",
    "    intercept = model.intercept_\n",
    "    return slope, intercept\n",
    "\n",
    "# Employee tenure data and job satisfaction data\n",
    "employee_tenure = np.array([2, 3, 5, 4, 6, 2, 4]).reshape((-1, 1))\n",
    "job_satisfaction = np.array([7, 8, 6, 9, 5, 7, 6])\n",
    "\n",
    "# Perform linear regression analysis using the function\n",
    "slope, intercept = perform_linear_regression(employee_tenure, job_satisfaction)\n",
    "\n",
    "# Print the regression equation\n",
    "print(\"Regression equation: Job Satisfaction = {:.2f} * Employee Tenure + {:.2f}\".format(slope, intercept))\n"
   ]
  },
  {
   "cell_type": "markdown",
   "id": "3d95cd5f-7398-498d-8294-ff2bbc38e337",
   "metadata": {},
   "source": [
    "**9. Scenario: A study is conducted to compare the effectiveness of two different medications. The recovery times of the patients in each group are as follows:**\n",
    "\n",
    "   Medication A: [10, 12, 14, 11, 13]\n",
    "   \n",
    "   Medication B: [15, 17, 16, 14, 18]\n",
    "   \n",
    "**Perform an analysis of variance (ANOVA) to determine if there is a significant difference in the mean recovery times between the two medications.**\n"
   ]
  },
  {
   "cell_type": "code",
   "execution_count": 34,
   "id": "556e07cf-56db-4b7d-8955-38f3c3e06bc8",
   "metadata": {},
   "outputs": [
    {
     "name": "stdout",
     "output_type": "stream",
     "text": [
      "There is a significant difference in mean recovery times between the medications.\n"
     ]
    }
   ],
   "source": [
    "import numpy as np\n",
    "import scipy.stats as stats\n",
    "\n",
    "def perform_anova(data1, data2):\n",
    "    _, p_value = stats.f_oneway(data1, data2)\n",
    "    return p_value\n",
    "\n",
    "medication_a = [10, 12, 14, 11, 13]\n",
    "medication_b = [15, 17, 16, 14, 18]\n",
    "\n",
    "p_value = perform_anova(medication_a, medication_b)\n",
    "\n",
    "alpha = 0.05\n",
    "\n",
    "if p_value < alpha:\n",
    "    print(\"There is a significant difference in mean recovery times between the medications.\")\n",
    "else:\n",
    "    print(\"There is no significant difference in mean recovery times between the medications.\")\n"
   ]
  },
  {
   "cell_type": "markdown",
   "id": "37172130-852b-4343-bebc-44fb178c2799",
   "metadata": {},
   "source": [
    "**10. Scenario: A company wants to analyze customer feedback ratings on a scale of 1 to 10. The data collected is as follows:**\n",
    "    \n",
    "    [8, 9, 7, 6, 8, 10, 9, 8, 7, 8]\n",
    "    \n",
    "   **Calculate the 75th percentile of the feedback ratings.**\n",
    "\n"
   ]
  },
  {
   "cell_type": "code",
   "execution_count": 35,
   "id": "54266f35-b5f1-4f44-a739-1e46cefd19ab",
   "metadata": {},
   "outputs": [
    {
     "name": "stdout",
     "output_type": "stream",
     "text": [
      "The 75th percentile of the feedback ratings is: 8.75\n"
     ]
    }
   ],
   "source": [
    "import numpy as np\n",
    "\n",
    "def calculate_percentile(data, percentile):\n",
    "    return np.percentile(data, percentile)\n",
    "\n",
    "feedback_ratings = [8, 9, 7, 6, 8, 10, 9, 8, 7, 8]\n",
    "\n",
    "percentile_75 = calculate_percentile(feedback_ratings, 75)\n",
    "\n",
    "print(f\"The 75th percentile of the feedback ratings is: {percentile_75:.2f}\")\n"
   ]
  },
  {
   "cell_type": "markdown",
   "id": "3973cb75-6cea-4755-a07a-c967974e6c2a",
   "metadata": {},
   "source": [
    "**11. Scenario: A quality control department wants to test the weight consistency of a product. The weights of a sample of products are as follows:**\n",
    "\n",
    "    [10.2, 9.8, 10.0, 10.5, 10.3, 10.1]\n",
    "\n",
    "   **Perform a hypothesis test to determine if the mean weight differs significantly from 10 grams.**\n",
    "\n"
   ]
  },
  {
   "cell_type": "code",
   "execution_count": 38,
   "id": "64c09dbe-e276-4e23-a382-182dbfefa10f",
   "metadata": {},
   "outputs": [
    {
     "name": "stdout",
     "output_type": "stream",
     "text": [
      "The mean weight does not differ significantly from 10 grams.\n"
     ]
    }
   ],
   "source": [
    "import numpy as np\n",
    "import scipy.stats as stats\n",
    "\n",
    "def perform_t_test(data, population_mean):\n",
    "    t_statistic, p_value = stats.ttest_1samp(data, population_mean)\n",
    "    return t_statistic, p_value\n",
    "\n",
    "weights = [10.2, 9.8, 10.0, 10.5, 10.3, 10.1]\n",
    "\n",
    "population_mean = 10.0\n",
    "\n",
    "t_statistic, p_value = perform_t_test(weights, population_mean)\n",
    "\n",
    "alpha = 0.05\n",
    "\n",
    "if p_value < alpha:\n",
    "    print(\"The mean weight differs significantly from 10 grams.\")\n",
    "else:\n",
    "    print(\"The mean weight does not differ significantly from 10 grams.\")\n"
   ]
  },
  {
   "cell_type": "markdown",
   "id": "1c8f9f06-0f3f-4ed9-9ec4-30a61a49c74f",
   "metadata": {},
   "source": [
    "**12. Scenario: A company wants to analyze the click-through rates of two different website designs. The number of clicks for each design is as follows:**\n",
    "\n",
    "    Design A: [100, 120, 110, 90, 95]\n",
    "    \n",
    "    Design B: [80, 85, 90, 95, 100]\n",
    "    \n",
    "   **Perform a chi-square test to determine if there is a significant difference in the click-through rates between the two designs.**\n"
   ]
  },
  {
   "cell_type": "code",
   "execution_count": 52,
   "id": "c5719eb1-2b40-4b0d-8dd7-4a379d2ab207",
   "metadata": {},
   "outputs": [
    {
     "name": "stdout",
     "output_type": "stream",
     "text": [
      "There is no significant difference in click-through rates between the designs.\n"
     ]
    }
   ],
   "source": [
    "import numpy as np\n",
    "import scipy.stats as stats\n",
    "\n",
    "def perform_chi_square_test(data):\n",
    "    chi2_statistic, p_value, _, _ = stats.chi2_contingency(data)\n",
    "    return chi2_statistic, p_value\n",
    "\n",
    "design_a = [100, 120, 110, 90, 95]\n",
    "design_b = [80, 85, 90, 95, 100]\n",
    "\n",
    "contingency_table = np.array([design_a, design_b])\n",
    "\n",
    "chi2_statistic, p_value = perform_chi_square_test(contingency_table)\n",
    "\n",
    "alpha = 0.05\n",
    "\n",
    "if p_value < alpha:\n",
    "    print(\"There is a significant difference in click-through rates between the designs.\")\n",
    "else:\n",
    "    print(\"There is no significant difference in click-through rates between the designs.\")\n"
   ]
  },
  {
   "cell_type": "markdown",
   "id": "1002d1a7-2c72-4362-9613-5f4db0377eec",
   "metadata": {},
   "source": [
    "**13. Scenario: A survey is conducted to measure customer satisfaction with a product on a scale of 1 to 10. The data collected is as follows:**\n",
    "\n",
    "    [7, 9, 6, 8, 10, 7, 8, 9, 7, 8]\n",
    "    \n",
    "  **Calculate the 95% confidence interval for the population mean satisfaction score.**\n"
   ]
  },
  {
   "cell_type": "code",
   "execution_count": 53,
   "id": "77b0af9f-74fc-4843-886c-4d6f262849df",
   "metadata": {},
   "outputs": [
    {
     "name": "stdout",
     "output_type": "stream",
     "text": [
      "95% Confidence Interval for the Population Mean Satisfaction Score:\n",
      "Lower bound: 7.043561120599888\n",
      "Upper bound: 8.756438879400113\n"
     ]
    }
   ],
   "source": [
    "from scipy.stats import t\n",
    "import numpy as np\n",
    "\n",
    "satisfaction_scores = [7, 9, 6, 8, 10, 7, 8, 9, 7, 8]\n",
    "\n",
    "confidence_level = 0.95\n",
    "sample_mean = np.mean(satisfaction_scores)\n",
    "sample_size = len(satisfaction_scores)\n",
    "sample_standard_error = np.std(satisfaction_scores, ddof=1) / np.sqrt(sample_size)\n",
    "\n",
    "confidence_interval = t.interval(confidence_level, df=sample_size-1, loc=sample_mean, scale=sample_standard_error)\n",
    "\n",
    "print(\"95% Confidence Interval for the Population Mean Satisfaction Score:\")\n",
    "print(\"Lower bound:\", lower_bound)\n",
    "print(\"Upper bound:\", upper_bound)\n"
   ]
  },
  {
   "cell_type": "markdown",
   "id": "e5d6e81b-d67b-4141-b4ae-33e225a3483e",
   "metadata": {},
   "source": [
    "**OR**"
   ]
  },
  {
   "cell_type": "code",
   "execution_count": 54,
   "id": "430dd34f-1d82-4536-b073-690b1fbe4e5c",
   "metadata": {},
   "outputs": [
    {
     "name": "stdout",
     "output_type": "stream",
     "text": [
      "95% Confidence Interval for the Population Mean Satisfaction Score:\n",
      "Lower bound: 7.043561120599888\n",
      "Upper bound: 8.756438879400113\n"
     ]
    }
   ],
   "source": [
    "import numpy as np\n",
    "import scipy.stats as stats\n",
    "\n",
    "def calculate_confidence_interval(data, confidence_level=0.95):\n",
    "    sample_mean = np.mean(data)\n",
    "    standard_error = stats.sem(data)\n",
    "    \n",
    "    margin_of_error = stats.t.ppf((1 + confidence_level) / 2, len(data) - 1) * standard_error\n",
    "    \n",
    "    confidence_interval_lower = sample_mean - margin_of_error\n",
    "    confidence_interval_upper = sample_mean + margin_of_error\n",
    "    \n",
    "    return confidence_interval_lower, confidence_interval_upper\n",
    "\n",
    "satisfaction_scores = [7, 9, 6, 8, 10, 7, 8, 9, 7, 8]\n",
    "\n",
    "lower_bound, upper_bound = calculate_confidence_interval(satisfaction_scores)\n",
    "\n",
    "print(\"95% Confidence Interval for the Population Mean Satisfaction Score:\")\n",
    "print(\"Lower bound:\", lower_bound)\n",
    "print(\"Upper bound:\", upper_bound)\n"
   ]
  },
  {
   "cell_type": "markdown",
   "id": "115a4bda-cae9-438f-bbc2-5773dc451b1d",
   "metadata": {},
   "source": [
    "**14. Scenario: A company wants to analyze the effect of temperature on product performance. The data collected is as follows:**\n",
    "    \n",
    "    Temperature (in degrees Celsius): [20, 22, 23, 19, 21]\n",
    "\n",
    "    Performance (on a scale of 1 to 10): [8, 7, 9, 6, 8]\n",
    "\n",
    "   **Perform a simple linear regression to predict performance based on temperature.**\n",
    "\n"
   ]
  },
  {
   "cell_type": "code",
   "execution_count": 56,
   "id": "a5b12551-75d4-4130-a43c-2b4e0c4c04f5",
   "metadata": {},
   "outputs": [
    {
     "name": "stdout",
     "output_type": "stream",
     "text": [
      "Regression equation: Performance = 0.50 * Temperature + -2.90\n"
     ]
    }
   ],
   "source": [
    "from sklearn.linear_model import LinearRegression\n",
    "import numpy as np\n",
    "\n",
    "temperature = np.array([20, 22, 23, 19, 21]).reshape((-1, 1))\n",
    "performance = np.array([8, 7, 9, 6, 8])\n",
    "\n",
    "# Create a linear regression model and fit the data\n",
    "model = LinearRegression()\n",
    "model.fit(temperature, performance)\n",
    "\n",
    "# Get the coefficients (slope and intercept)\n",
    "slope = model.coef_[0]\n",
    "intercept = model.intercept_\n",
    "\n",
    "print(\"Regression equation: Performance = {:.2f} * Temperature + {:.2f}\".format(slope, intercept))\n",
    "\n",
    "     "
   ]
  },
  {
   "cell_type": "markdown",
   "id": "73c80b94-42da-4583-9a13-3965802735d0",
   "metadata": {},
   "source": [
    "**15. Scenario: A study is conducted to compare the preferences of two groups of participants. The preferences are measured on a Likert scale from 1 to 5. The data collected is as follows:**\n",
    "\n",
    "    Group A: [4, 3, 5, 2, 4]\n",
    "\n",
    "    Group B: [3, 2, 4, 3, 3]\n",
    "\n",
    "   **Perform a Mann-Whitney U test to determine if there is a significant difference in the median preferences between the two groups.**\n"
   ]
  },
  {
   "cell_type": "code",
   "execution_count": 66,
   "id": "d6ce1bc9-a3a6-4c14-bd9b-261d6f551be9",
   "metadata": {},
   "outputs": [
    {
     "name": "stdout",
     "output_type": "stream",
     "text": [
      "There is no significant difference in median preferences between the two groups.\n"
     ]
    }
   ],
   "source": [
    "import numpy as np\n",
    "import scipy.stats as stats\n",
    "\n",
    "group_a = [4, 3, 5, 2, 4]\n",
    "group_b = [3, 2, 4, 3, 3]\n",
    "\n",
    "statistic, p_value = stats.mannwhitneyu(group_a, group_b)\n",
    "\n",
    "alpha = 0.05\n",
    "\n",
    "if p_value < alpha:\n",
    "    print(\"There is a significant difference in median preferences between the two groups.\")\n",
    "else:\n",
    "    print(\"There is no significant difference in median preferences between the two groups.\")\n"
   ]
  },
  {
   "cell_type": "markdown",
   "id": "71e5eb1f-8be5-4fad-beac-de2707633666",
   "metadata": {},
   "source": [
    "**16. Scenario: A company wants to analyze the distribution of customer ages. The data collected is as follows:**\n",
    "    \n",
    "    [25, 30, 35, 40, 45, 50, 55, 60, 65, 70]\n",
    "    \n",
    "  **Calculate the interquartile range (IQR) of the ages.**\n"
   ]
  },
  {
   "cell_type": "code",
   "execution_count": 67,
   "id": "faf1108b-c32f-4090-8e16-6ce3904a2352",
   "metadata": {},
   "outputs": [
    {
     "name": "stdout",
     "output_type": "stream",
     "text": [
      "Interquartile Range (IQR) of the ages: 22.5\n"
     ]
    }
   ],
   "source": [
    "import numpy as np\n",
    "\n",
    "def calculate_iqr(data):\n",
    "    q1 = np.percentile(data, 25)\n",
    "    q3 = np.percentile(data, 75)\n",
    "    iqr = q3 - q1\n",
    "    return iqr\n",
    "\n",
    "ages = [25, 30, 35, 40, 45, 50, 55, 60, 65, 70]\n",
    "\n",
    "iqr = calculate_iqr(ages)\n",
    "\n",
    "print(\"Interquartile Range (IQR) of the ages:\", iqr)\n"
   ]
  },
  {
   "cell_type": "markdown",
   "id": "f60dc0ad-557d-417d-b48b-10f08ee55420",
   "metadata": {},
   "source": [
    "**17. Scenario: A study is conducted to compare the performance of three different machine learning algorithms. The accuracy scores for each algorithm are as follows:**\n",
    "\n",
    "    Algorithm A: [0.85, 0.80, 0.82, 0.87, 0.83]\n",
    "                                                                                                                                   \n",
    "    Algorithm B: [0.78, 0.82, 0.84, 0.80, 0.79]\n",
    "                                                                                                                                   \n",
    "    Algorithm C: [0.90, 0.88, 0.89, 0.86, 0.87]\n",
    "                                                                                                                                   \n",
    "   **Perform a Kruskal-Wallis test to determine if there is a significant difference in the median accuracy scores between the algorithms.**\n"
   ]
  },
  {
   "cell_type": "code",
   "execution_count": 69,
   "id": "f0f3b269-bcd2-4fb1-a0c6-262507b18ae9",
   "metadata": {},
   "outputs": [
    {
     "name": "stdout",
     "output_type": "stream",
     "text": [
      "There is a significant difference in the median accuracy scores between the algorithms.\n"
     ]
    }
   ],
   "source": [
    "from scipy.stats import kruskal\n",
    "\n",
    "algorithm_a_scores = [0.85, 0.80, 0.82, 0.87, 0.83]\n",
    "algorithm_b_scores = [0.78, 0.82, 0.84, 0.80, 0.79]\n",
    "algorithm_c_scores = [0.90, 0.88, 0.89, 0.86, 0.87]\n",
    "\n",
    "statistic, p_value = kruskal(algorithm_a_scores, algorithm_b_scores, algorithm_c_scores)\n",
    "\n",
    "alpha = 0.05  # significance level\n",
    "\n",
    "if p_value < alpha:\n",
    "    print(\"There is a significant difference in the median accuracy scores between the algorithms.\")\n",
    "else:\n",
    "    print(\"There is no significant difference in the median accuracy scores between the algorithms.\")\n"
   ]
  },
  {
   "cell_type": "markdown",
   "id": "9edda20e-55d2-4776-a9e0-1bb0ed0d5ce9",
   "metadata": {},
   "source": [
    "**18. Scenario: A company wants to analyze the effect of price on sales. The data collected is as follows:**\n",
    "    \n",
    "    Price (in dollars): [10, 15, 12, 8, 14]\n",
    "    \n",
    "    Sales: [100, 80, 90, 110, 95]\n",
    "\n",
    "   **Perform a simple linear regression to predict sales based on price.**\n"
   ]
  },
  {
   "cell_type": "code",
   "execution_count": 72,
   "id": "75b1c305-e833-453d-85a0-95342ac64477",
   "metadata": {},
   "outputs": [
    {
     "name": "stdout",
     "output_type": "stream",
     "text": [
      "Regression equation: Sales = -3.51 * Price + 136.37\n"
     ]
    }
   ],
   "source": [
    "import numpy as np\n",
    "from sklearn.linear_model import LinearRegression\n",
    "\n",
    "price = np.array([10, 15, 12, 8, 14]).reshape((-1, 1))\n",
    "sales = np.array([100, 80, 90, 110, 95])\n",
    "\n",
    "model = LinearRegression()\n",
    "model.fit(price, sales)\n",
    "\n",
    "slope = model.coef_[0]\n",
    "intercept = model.intercept_\n",
    "\n",
    "print(\"Regression equation: Sales = {:.2f} * Price + {:.2f}\".format(slope, intercept))\n"
   ]
  },
  {
   "cell_type": "markdown",
   "id": "fad86db7-185d-4751-b837-1807855c1f15",
   "metadata": {},
   "source": [
    "**19. Scenario: A survey is conducted to measure the satisfaction levels of customers with a new product. The data collected is as follows:**\n",
    "    \n",
    "    [7, 8, 9, 6, 8, 7, 9, 7, 8, 7]\n",
    "\n",
    "   **Calculate the standard error of the mean satisfaction score.**\n"
   ]
  },
  {
   "cell_type": "code",
   "execution_count": 74,
   "id": "b01b32ef-99fa-43d0-811f-35de85470f0a",
   "metadata": {},
   "outputs": [
    {
     "name": "stdout",
     "output_type": "stream",
     "text": [
      "Standard Error of the mean satisfaction score: 0.30550504633038933\n"
     ]
    }
   ],
   "source": [
    "import numpy as np\n",
    "\n",
    "satisfaction_scores = [7, 8, 9, 6, 8, 7, 9, 7, 8, 7]\n",
    "\n",
    "sample_size = len(satisfaction_scores)\n",
    "standard_deviation = np.std(satisfaction_scores, ddof=1)\n",
    "standard_error = standard_deviation / np.sqrt(sample_size)\n",
    "\n",
    "print(\"Standard Error of the mean satisfaction score:\", standard_error)\n"
   ]
  },
  {
   "cell_type": "markdown",
   "id": "0e8e588e-ea02-4c5f-83fa-5d59232bab0e",
   "metadata": {},
   "source": [
    "**20. Scenario: A company wants to analyze the relationship between advertising expenditure and sales. The data collected is as follows:**\n",
    "\n",
    "    Advertising Expenditure (in thousands): [10, 15, 12, 8, 14]\n",
    "\n",
    "    Sales (in thousands): [25, 30, 28, 20, 26]\n",
    "\n",
    "   **Perform a multiple regression analysis to predict sales based on advertising expenditure.**\n"
   ]
  },
  {
   "cell_type": "code",
   "execution_count": null,
   "id": "09b094b9-2dfe-454b-9ca0-2e9f7678da03",
   "metadata": {},
   "outputs": [],
   "source": []
  },
  {
   "cell_type": "code",
   "execution_count": 77,
   "id": "0c20f601-2cec-425a-b7b3-2b8224dc3f73",
   "metadata": {},
   "outputs": [
    {
     "name": "stdout",
     "output_type": "stream",
     "text": [
      "Regression equation: Sales = 1.15 * Advertising Expenditure + 12.20\n"
     ]
    }
   ],
   "source": [
    "from sklearn.linear_model import LinearRegression\n",
    "import numpy as np\n",
    "\n",
    "advertising_expenditure = np.array([10, 15, 12, 8, 14]).reshape((-1, 1))\n",
    "sales = np.array([25, 30, 28, 20, 26])\n",
    "\n",
    "# Create a linear regression model and fit the data\n",
    "model = LinearRegression()\n",
    "model.fit(advertising_expenditure, sales)\n",
    "\n",
    "# Get the coefficients (slope and intercept)\n",
    "slope = model.coef_[0]\n",
    "intercept = model.intercept_\n",
    "\n",
    "print(\"Regression equation: Sales = {:.2f} * Advertising Expenditure + {:.2f}\".format(slope, intercept))\n",
    "\n",
    "     "
   ]
  },
  {
   "cell_type": "code",
   "execution_count": null,
   "id": "e8a334d3-5781-4eb0-a1b0-9d82d7e677f1",
   "metadata": {},
   "outputs": [],
   "source": []
  }
 ],
 "metadata": {
  "kernelspec": {
   "display_name": "Python 3 (ipykernel)",
   "language": "python",
   "name": "python3"
  },
  "language_info": {
   "codemirror_mode": {
    "name": "ipython",
    "version": 3
   },
   "file_extension": ".py",
   "mimetype": "text/x-python",
   "name": "python",
   "nbconvert_exporter": "python",
   "pygments_lexer": "ipython3",
   "version": "3.11.4"
  }
 },
 "nbformat": 4,
 "nbformat_minor": 5
}
