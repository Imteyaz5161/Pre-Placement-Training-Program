{
 "cells": [
  {
   "cell_type": "markdown",
   "id": "2172201d",
   "metadata": {},
   "source": [
    "**Assignment Questions 2**"
   ]
  },
  {
   "cell_type": "markdown",
   "id": "7e8e8048",
   "metadata": {},
   "source": [
    "Assignment 2 - Arrays - DSA"
   ]
  },
  {
   "cell_type": "markdown",
   "id": "60c8937c",
   "metadata": {},
   "source": [
    "**Q1.**\n",
    "Given an integer array nums of 2n integers, group these integers into n pairs (a1, b1), (a2, b2),..., (an, bn) such that the sum of min(ai, bi) for all i is maximized. Return the maximized sum.\n",
    "\n",
    "**Example 1:**\n",
    "\n",
    "Input: nums = [1,4,3,2]\n",
    "\n",
    "Output: 4\n",
    "\n",
    "**Explanation:** All possible pairings (ignoring the ordering of elements) are:\n",
    "\n",
    "1. (1, 4), (2, 3) -> min(1, 4) + min(2, 3) = 1 + 2 = 3\n",
    "2. (1, 3), (2, 4) -> min(1, 3) + min(2, 4) = 1 + 2 = 3\n",
    "3. (1, 2), (3, 4) -> min(1, 2) + min(3, 4) = 1 + 3 = 4\n",
    "\n",
    "So the maximum possible sum is 4\n"
   ]
  },
  {
   "cell_type": "code",
   "execution_count": 1,
   "id": "a2017c7d",
   "metadata": {},
   "outputs": [
    {
     "name": "stdout",
     "output_type": "stream",
     "text": [
      "4\n"
     ]
    }
   ],
   "source": [
    "def arrayPairSum(nums):\n",
    "    # Sort the array in ascending order\n",
    "    nums.sort()\n",
    "\n",
    "    # Initialize the sum variable\n",
    "    total_sum = 0\n",
    "\n",
    "    # Iterate over the array, incrementing the index by 2 each time\n",
    "    for i in range(0, len(nums), 2):\n",
    "        # Add the minimum value of the pair to the sum\n",
    "        total_sum += min(nums[i], nums[i + 1])\n",
    "\n",
    "    # Return the maximized sum\n",
    "    return total_sum\n",
    "\n",
    "\n",
    "nums = [1, 4, 3, 2]\n",
    "max_sum = arrayPairSum(nums)\n",
    "print(\"Output:\", max_sum)"
   ]
  },
  {
   "cell_type": "markdown",
   "id": "e612d2c1",
   "metadata": {},
   "source": [
    "**Q2.**\n",
    "Alice has n candies, where the ith candy is of type candyType[i]. Alice noticed that she started to gain weight, so she visited a doctor. \n",
    "\n",
    "The doctor advised Alice to only eat n / 2 of the candies she has (n is always even). Alice likes her candies very much, and she wants to eat the maximum number of different types of candies while still following the doctor's advice. \n",
    "\n",
    "Given the integer array candyType of length n, return the maximum number of different types of candies she can eat if she only eats n / 2 of them.\n",
    "\n",
    "**Example 1:**\n",
    "\n",
    "Input: candyType = [1,1,2,2,3,3]\n",
    "\n",
    "Output: 3\n",
    "\n",
    "**Explanation:** Alice can only eat 6 / 2 = 3 candies. Since there are only 3 types, she can eat one of each type."
   ]
  },
  {
   "cell_type": "code",
   "execution_count": 5,
   "id": "d4b23579",
   "metadata": {},
   "outputs": [],
   "source": [
    "def max_candies(candyType):\n",
    "    # Calculate the maximum number of candies Alice can eat\n",
    "    max_eatable = len(candyType) // 2\n",
    "\n",
    "    # Calculate the number of unique candy types\n",
    "    unique_candies = set(candyType)\n",
    "\n",
    "    # Calculate the maximum number of different types of candies Alice can eat\n",
    "    max_types_eatable = min(max_eatable, len(unique_candies))\n",
    "\n",
    "    return max_types_eatable"
   ]
  },
  {
   "cell_type": "code",
   "execution_count": 6,
   "id": "dfd18b8b",
   "metadata": {},
   "outputs": [
    {
     "name": "stdout",
     "output_type": "stream",
     "text": [
      "Output: 3\n"
     ]
    }
   ],
   "source": [
    "candyType = [1, 1, 2, 2, 3, 3]\n",
    "result = max_candies(candyType)\n",
    "print(\"Output:\", result)"
   ]
  },
  {
   "cell_type": "markdown",
   "id": "9e597e90",
   "metadata": {},
   "source": [
    "**Q3.**\n",
    "We define a harmonious array as an array where the difference between its maximum value\n",
    "and its minimum value is exactly 1.\n",
    "\n",
    "Given an integer array nums, return the length of its longest harmonious subsequence\n",
    "among all its possible subsequences.\n",
    "\n",
    "A subsequence of an array is a sequence that can be derived from the array by deleting some or no elements without changing the order of the remaining elements.\n",
    "\n",
    "**Example 1:**\n",
    "\n",
    "Input: nums = [1,3,2,2,5,2,3,7]\n",
    "\n",
    "Output: 5\n",
    "\n",
    "**Explanation:** The longest harmonious subsequence is [3,2,2,2,3]."
   ]
  },
  {
   "cell_type": "code",
   "execution_count": 9,
   "id": "32e4c534",
   "metadata": {},
   "outputs": [
    {
     "name": "stdout",
     "output_type": "stream",
     "text": [
      "5\n"
     ]
    }
   ],
   "source": [
    "def findLHS(nums):\n",
    "    counter = {}\n",
    "    for num in nums:\n",
    "        counter[num] = counter.get(num, 0) + 1\n",
    "\n",
    "    max_length = 0\n",
    "    for num in counter:\n",
    "        if num + 1 in counter:\n",
    "            length = counter[num] + counter[num + 1]\n",
    "            max_length = max(max_length, length)\n",
    "\n",
    "    return max_length\n",
    "\n",
    "nums = [1, 3, 2, 2, 5, 2, 3, 7]\n",
    "print(findLHS(nums))  "
   ]
  },
  {
   "cell_type": "markdown",
   "id": "e1edcfde",
   "metadata": {},
   "source": [
    "**Q4.**\n",
    "You have a long flowerbed in which some of the plots are planted, and some are not.\n",
    "However, flowers cannot be planted in adjacent plots.\n",
    "Given an integer array flowerbed containing 0's and 1's, where 0 means empty and 1 means not empty, and an integer n, return true if n new flowers can be planted in the flowerbed without violating the no-adjacent-flowers rule and false otherwise.\n",
    "\n",
    "**Example 1:**\n",
    "\n",
    "Input: flowerbed = [1,0,0,0,1], n = 1\n",
    "    \n",
    "Output: true"
   ]
  },
  {
   "cell_type": "code",
   "execution_count": 13,
   "id": "b3f9cc13",
   "metadata": {},
   "outputs": [
    {
     "name": "stdout",
     "output_type": "stream",
     "text": [
      "Output: True\n"
     ]
    }
   ],
   "source": [
    "def can_place_flowers(flowerbed, n):\n",
    "    count_flowers = 0\n",
    "    count_empty = 1  # We initialize count_empty to 1 to handle the case when the first plot is empty\n",
    "\n",
    "    for plot in flowerbed:\n",
    "        if plot == 0:\n",
    "            count_empty += 1\n",
    "        else:\n",
    "            count_flowers += (count_empty - 1) // 2\n",
    "            count_empty = 0\n",
    "\n",
    "    # Handling the last consecutive empty plots if any\n",
    "    count_flowers += count_empty // 2\n",
    "\n",
    "    return count_flowers >= n\n",
    "\n",
    "# Example usage\n",
    "flowerbed = [1, 0, 0, 0, 1]\n",
    "n = 1\n",
    "result = can_place_flowers(flowerbed, n)\n",
    "print(\"Output:\", result)\n"
   ]
  },
  {
   "cell_type": "markdown",
   "id": "fe898e86",
   "metadata": {},
   "source": [
    "**Q5.**\n",
    "Given an integer array nums, find three numbers whose product is maximum and return the maximum product.\n",
    "\n",
    "**Example 1:**\n",
    "\n",
    "Input: nums = [1,2,3]\n",
    "    \n",
    "Output: 6"
   ]
  },
  {
   "cell_type": "code",
   "execution_count": 17,
   "id": "2b407ed3",
   "metadata": {},
   "outputs": [
    {
     "name": "stdout",
     "output_type": "stream",
     "text": [
      "Output: 6\n"
     ]
    }
   ],
   "source": [
    "def maximumProduct(nums):\n",
    "    # Sort the array in ascending order\n",
    "    nums.sort()\n",
    "\n",
    "    # Calculate the product of the three largest elements\n",
    "    max_product = nums[-1] * nums[-2] * nums[-3]\n",
    "\n",
    "    # Calculate the product of the two minimum negative numbers and the maximum positive number\n",
    "    negative_product = nums[0] * nums[1] * nums[-1]\n",
    "\n",
    "    # Return the maximum of max_product and negative_product\n",
    "    return max(max_product, negative_product)\n",
    "nums = [1, 2, 3]\n",
    "max_prod = maximumProduct(nums)\n",
    "print(\"Output:\", max_prod)"
   ]
  },
  {
   "cell_type": "markdown",
   "id": "98d00bf8",
   "metadata": {},
   "source": [
    "**Q6.**\n",
    "Given an array of integers nums which is sorted in ascending order, and an integer target,\n",
    "write a function to search target in nums. If target exists, then return its index. Otherwise,\n",
    "return -1.\n",
    "\n",
    "You must write an algorithm with O(log n) runtime complexity.\n",
    "\n",
    "**Example 1:**\n",
    "\n",
    "Input: nums = [-1,0,3,5,9,12], target = 9\n",
    "\n",
    "Output: 4\n",
    "\n",
    "**Explanation:** 9 exists in nums and its index is 4"
   ]
  },
  {
   "cell_type": "code",
   "execution_count": 23,
   "id": "9c11165d",
   "metadata": {},
   "outputs": [
    {
     "name": "stdout",
     "output_type": "stream",
     "text": [
      "4\n"
     ]
    }
   ],
   "source": [
    "def binary_search(nums, target):\n",
    "    left, right = 0, len(nums) - 1\n",
    "    \n",
    "    while left <= right:\n",
    "        mid = (left + right) // 2 \n",
    "        if nums[mid] == target:\n",
    "            return mid \n",
    "        elif nums[mid] > target:\n",
    "            right = mid -1\n",
    "            \n",
    "        else:\n",
    "            left = mid + 1 \n",
    "        \n",
    "    return -1 \n",
    "\n",
    "# Example :\n",
    "nums = [-1, 0, 3, 5, 9, 12]\n",
    "target = 9\n",
    "result = binary_search(nums, target)\n",
    "print(result)"
   ]
  },
  {
   "cell_type": "markdown",
   "id": "d3e7a87a",
   "metadata": {},
   "source": [
    "**Q7.**\n",
    "An array is monotonic if it is either monotone increasing or monotone decreasing.\n",
    "\n",
    "An array nums is monotone increasing if for all i <= j, nums[i] <= nums[j]. An array nums is\n",
    "monotone decreasing if for all i <= j, nums[i] >= nums[j].\n",
    "\n",
    "Given an integer array nums, return true if the given array is monotonic, or false otherwise.\n",
    "\n",
    "**Example 1:**\n",
    "    \n",
    "Input: nums = [1,2,2,3]\n",
    "    \n",
    "Output: true"
   ]
  },
  {
   "cell_type": "code",
   "execution_count": 25,
   "id": "99efb8b0",
   "metadata": {},
   "outputs": [
    {
     "name": "stdout",
     "output_type": "stream",
     "text": [
      "True\n"
     ]
    }
   ],
   "source": [
    "def is_monotonic(nums):\n",
    "    increasing = decreasing = True\n",
    "    \n",
    "    for i in range(1, len(nums)):\n",
    "        if nums[i] < nums[i - 1]:\n",
    "            increasing = False\n",
    "            break\n",
    "\n",
    "    for i in range(1, len(nums)):\n",
    "        if nums[i] > nums[i - 1]:\n",
    "            decreasing = False\n",
    "            break\n",
    "\n",
    "    return increasing or decreasing\n",
    "\n",
    "# Example :\n",
    "nums = [1, 2, 2, 3]\n",
    "result = is_monotonic(nums)\n",
    "print(result)"
   ]
  },
  {
   "cell_type": "markdown",
   "id": "38295e3b",
   "metadata": {},
   "source": [
    "**Q8.**\n",
    "You are given an integer array nums and an integer k.\n",
    "\n",
    "In one operation, you can choose any index i where 0 <= i < nums.length and change nums[i] to nums[i] + x where x is an integer from the range [-k, k]. You can apply this operation at most once for each index i.\n",
    "\n",
    "The score of nums is the difference between the maximum and minimum elements in nums.\n",
    "\n",
    "Return the minimum score of nums after applying the mentioned operation at most once for each index in it.\n",
    "\n",
    "**Example 1:**\n",
    "    \n",
    "Input: nums = [1], k = 0\n",
    "    \n",
    "Output: 0\n",
    "\n",
    "**Explanation:** The score is max(nums) - min(nums) = 1 - 1 = 0."
   ]
  },
  {
   "cell_type": "code",
   "execution_count": 29,
   "id": "81f9d017",
   "metadata": {},
   "outputs": [
    {
     "name": "stdout",
     "output_type": "stream",
     "text": [
      "0\n"
     ]
    }
   ],
   "source": [
    "def minimumScore(nums, k):\n",
    "    minimum = min(nums)\n",
    "    maximum = max(nums)\n",
    "\n",
    "    if maximum - minimum <= 2 * k:\n",
    "        return 0\n",
    "\n",
    "    mid = (minimum + maximum) // 2\n",
    "\n",
    "    for i in range(len(nums)):\n",
    "        if nums[i] <= mid:\n",
    "            nums[i] = mid - k\n",
    "        else:\n",
    "            nums[i] = mid + k\n",
    "\n",
    "    newMinimum = min(nums)\n",
    "    newMaximum = max(nums)\n",
    "\n",
    "    return newMaximum - newMinimum\n",
    "\n",
    "nums = [1]\n",
    "k = 0\n",
    "print(minimumScore(nums, k)) "
   ]
  },
  {
   "cell_type": "code",
   "execution_count": 28,
   "id": "c9d063ee",
   "metadata": {},
   "outputs": [
    {
     "name": "stdout",
     "output_type": "stream",
     "text": [
      "0\n"
     ]
    }
   ],
   "source": [
    "def min_score(nums, k):\n",
    "    # Step 1: Find the maximum and minimum values in the array\n",
    "    max_val = max(nums)\n",
    "    min_val = min(nums)\n",
    "\n",
    "    # Step 2: Compute the potential candidates for the minimum score\n",
    "    candidate1 = max_val - k\n",
    "    candidate2 = min_val + k\n",
    "\n",
    "    # Step 3: Return the difference between the smallest candidate and the largest candidate\n",
    "    return max(0, candidate1 - candidate2)\n",
    "\n",
    "# Example :\n",
    "nums = [1]\n",
    "k = 0\n",
    "min_score_result = min_score(nums, k)\n",
    "print(min_score_result)\n"
   ]
  },
  {
   "cell_type": "code",
   "execution_count": null,
   "id": "f4374725",
   "metadata": {},
   "outputs": [],
   "source": []
  }
 ],
 "metadata": {
  "kernelspec": {
   "display_name": "Python 3 (ipykernel)",
   "language": "python",
   "name": "python3"
  },
  "language_info": {
   "codemirror_mode": {
    "name": "ipython",
    "version": 3
   },
   "file_extension": ".py",
   "mimetype": "text/x-python",
   "name": "python",
   "nbconvert_exporter": "python",
   "pygments_lexer": "ipython3",
   "version": "3.10.9"
  },
  "toc": {
   "base_numbering": 1,
   "nav_menu": {},
   "number_sections": true,
   "sideBar": true,
   "skip_h1_title": false,
   "title_cell": "Table of Contents",
   "title_sidebar": "Contents",
   "toc_cell": false,
   "toc_position": {},
   "toc_section_display": true,
   "toc_window_display": false
  },
  "varInspector": {
   "cols": {
    "lenName": 16,
    "lenType": 16,
    "lenVar": 40
   },
   "kernels_config": {
    "python": {
     "delete_cmd_postfix": "",
     "delete_cmd_prefix": "del ",
     "library": "var_list.py",
     "varRefreshCmd": "print(var_dic_list())"
    },
    "r": {
     "delete_cmd_postfix": ") ",
     "delete_cmd_prefix": "rm(",
     "library": "var_list.r",
     "varRefreshCmd": "cat(var_dic_list()) "
    }
   },
   "types_to_exclude": [
    "module",
    "function",
    "builtin_function_or_method",
    "instance",
    "_Feature"
   ],
   "window_display": false
  }
 },
 "nbformat": 4,
 "nbformat_minor": 5
}
