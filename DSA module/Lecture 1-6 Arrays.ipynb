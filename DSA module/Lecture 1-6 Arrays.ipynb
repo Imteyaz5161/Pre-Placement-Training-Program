{
 "cells": [
  {
   "cell_type": "markdown",
   "id": "04b10a9c",
   "metadata": {},
   "source": [
    "# Pre-Placement-Training-Program\n",
    "## Module 1-DSA\n",
    "### Lecture 1-6 : Arrays"
   ]
  },
  {
   "cell_type": "markdown",
   "id": "cb9b6f1a",
   "metadata": {},
   "source": [
    "# Class Notes 1 \n",
    "## Lecture 1- Arrays"
   ]
  },
  {
   "cell_type": "markdown",
   "id": "e8e36d91",
   "metadata": {},
   "source": [
    "## Q1. \n",
    "Given an array of size N. The task is to find the maximum and the minimum element of the array using the minimum number of comparisons.\n",
    "### Examples:\n",
    "Input: arr[] = {3, 5, 4, 1, 9}\n",
    "\n",
    "Output: Minimum element is: 1\n",
    "\n",
    "Maximum element is: 9\n",
    "\n",
    "TC : O(n)\n",
    "\n",
    "SC: O(n)\n"
   ]
  },
  {
   "cell_type": "code",
   "execution_count": 4,
   "id": "0fa334e5",
   "metadata": {},
   "outputs": [
    {
     "name": "stdout",
     "output_type": "stream",
     "text": [
      "Minimum element is 1\n",
      "Maximum element is 3000\n"
     ]
    }
   ],
   "source": [
    "class pair:\n",
    "\tdef __init__(self):\n",
    "\t\tself.min = 0\n",
    "\t\tself.max = 0\n",
    " \n",
    "def getMinMax(arr: list, n: int) -> pair:\n",
    "\tminmax = pair()\n",
    " \n",
    "\t# If there is only one element then return it as min and max both\n",
    "\tif n == 1:\n",
    "\t\tminmax.max = arr[0]\n",
    "\t\tminmax.min = arr[0]\n",
    "\t\treturn minmax\n",
    " \n",
    "\t# If there are more than one elements, then initialize min\n",
    "\t# and max\n",
    "\tif arr[0] > arr[1]:\n",
    "\t\tminmax.max = arr[0]\n",
    "\t\tminmax.min = arr[1]\n",
    "\telse:\n",
    "\t\tminmax.max = arr[1]\n",
    "\t\tminmax.min = arr[0]\n",
    " \n",
    "\tfor i in range(2, n):\n",
    "\t\tif arr[i] > minmax.max:\n",
    "\t\t\tminmax.max = arr[i]\n",
    "\t\telif arr[i] < minmax.min:\n",
    "\t\t\tminmax.min = arr[i]\n",
    " \n",
    "\treturn minmax\n",
    " \n",
    "# Driver Code\n",
    "if __name__ == \"__main__\":\n",
    "\tarr = [1000, 11, 445, 1, 330, 3000]\n",
    "\tarr_size = 6\n",
    "\tminmax = getMinMax(arr, arr_size)\n",
    "\tprint(\"Minimum element is\", minmax.min)\n",
    "\tprint(\"Maximum element is\", minmax.max)"
   ]
  },
  {
   "cell_type": "markdown",
   "id": "ca483423",
   "metadata": {},
   "source": [
    "## Q2. \n",
    "You are given an array prices where prices[i] is the price of a given stock \n",
    "on the ith day.\n",
    "You want to maximize your profit by choosing a single day to buy one stock\n",
    "and choosing a different day in the future to sell that stock.\n",
    "Return the maximum profit you can achieve from this transaction. If you\n",
    "cannot achieve any profit, return 0.\n",
    "### Example :\n",
    "Input: prices = [7,1,5,3,6,4]\n",
    "\n",
    "Output: 5\n",
    "\n",
    "Explanation: Buy on day 2 (price = 1) and sell on day 5 (price = 6), profit = 6-1\n",
    "\n",
    "= 5.\n",
    "\n",
    "Note that buying on day 2 and selling on day 1 is not allowed because you\n",
    "\n",
    "must buy before you sell.\n",
    "\n",
    "solution:"
   ]
  },
  {
   "cell_type": "code",
   "execution_count": 21,
   "id": "e6ad5213",
   "metadata": {},
   "outputs": [
    {
     "name": "stdout",
     "output_type": "stream",
     "text": [
      "5\n"
     ]
    }
   ],
   "source": [
    "from typing import List\n",
    "class Solution:\n",
    "    def maxProfit(self, prices: List[int]) -> int:\n",
    "        min_price = float('inf')\n",
    "        max_profit = 0\n",
    "        for i in range(len(prices)):\n",
    "            if prices[i] < min_price:\n",
    "                min_price = prices[i]\n",
    "            elif prices[i] - min_price > max_profit:\n",
    "                max_profit = prices[i] - min_price\n",
    "\n",
    "        return max_profit\n",
    "    \n",
    "solution = Solution()\n",
    "prices = [7, 1, 5, 3, 6, 4]\n",
    "result = solution.maxProfit(prices)\n",
    "print(result)\n"
   ]
  },
  {
   "cell_type": "markdown",
   "id": "24b231e7",
   "metadata": {},
   "source": [
    "## Q3\n",
    "Given an integer array nums, find a subarray that has the largest product,\n",
    "and return the product.\n",
    "The test cases are generated so that the answer will fit in a 32-bit integer.\n",
    "### Example:\n",
    "\n",
    "Input: nums = [2,3,-2,4]\n",
    "\n",
    "Output: 6\n",
    "\n",
    "Explanation: [2,3] has the largest product 6.\n"
   ]
  },
  {
   "cell_type": "code",
   "execution_count": 22,
   "id": "7cb88a4a",
   "metadata": {},
   "outputs": [
    {
     "name": "stdout",
     "output_type": "stream",
     "text": [
      "6\n"
     ]
    }
   ],
   "source": [
    "class Solution:\n",
    "    def maxProduct(self, nums: List[int]) -> int:\n",
    "        if len(nums) == 0:\n",
    "            return 0\n",
    " \n",
    "        max_so_far = nums[0]\n",
    "        min_so_far = nums[0]\n",
    "        result = max_so_far\n",
    " \n",
    "        for i in range(1, len(nums)):\n",
    "            curr = nums[i]\n",
    "            temp_max = max(curr, max_so_far * curr, min_so_far * curr)\n",
    "            min_so_far = min(curr, max_so_far * curr, min_so_far * curr)\n",
    " \n",
    "            max_so_far = temp_max\n",
    " \n",
    "            result = max(max_so_far, result)\n",
    " \n",
    "        return result\n",
    "\n",
    "solution = Solution()\n",
    "nums = [2, 3, -2, 4]\n",
    "result = solution.maxProduct(nums)\n",
    "print(result)"
   ]
  },
  {
   "cell_type": "markdown",
   "id": "91c5f6d2",
   "metadata": {},
   "source": [
    "## Q4\n",
    "Given an integer array nums, return all the triplets [nums[i], nums[j],\n",
    "nums[k]] such that i != j, i != k, and j != k, and nums[i] + nums[j] + nums[k] ==\n",
    "0.\n",
    "Notice that the solution set must not contain duplicate triplets.\n",
    "### Example:\n",
    "Input: nums = [-1,0,1,2,-1,-4]\n",
    "\n",
    "Output: [[-1,-1,2],[-1,0,1]]\n",
    "\n",
    "Explanation:\n",
    "\n",
    "nums[0] + nums[1] + nums[2] = (-1) + 0 + 1 = 0.\n",
    "\n",
    "nums[1] + nums[2] + nums[4] = 0 + 1 + (-1) = 0.\n",
    "\n",
    "nums[0] + nums[3] + nums[4] = (-1) + 2 + (-1) = 0.\n",
    "\n",
    "The distinct triplets are [-1,0,1] and [-1,-1,2].\n",
    "\n",
    "Notice that the order of the output and the order of the triplets does not\n",
    "matter.\n"
   ]
  },
  {
   "cell_type": "code",
   "execution_count": 11,
   "id": "7ead1034",
   "metadata": {},
   "outputs": [],
   "source": [
    "class Solution:\n",
    "    def threeSum(self, nums: List[int]) -> List[List[int]]:\n",
    "        res = []\n",
    "        nums.sort()\n",
    "        for i in range(len(nums)):\n",
    "            if nums[i] > 0:\n",
    "                break\n",
    "            if i == 0 or nums[i - 1] != nums[i]:\n",
    "                self.twoSumII(nums, i, res)\n",
    "        return res\n",
    " \n",
    "    def twoSumII(self, nums: List[int], i: int, res: List[List[int]]):\n",
    "        lo, hi = i + 1, len(nums) - 1\n",
    "        while (lo < hi):\n",
    "            sum = nums[i] + nums[lo] + nums[hi]\n",
    "            if sum < 0:\n",
    "                lo += 1\n",
    "            elif sum > 0:\n",
    "                hi -= 1\n",
    "            else:\n",
    "                res.append([nums[i], nums[lo], nums[hi]])\n",
    "                lo += 1\n",
    "                hi -= 1\n",
    "                while lo < hi and nums[lo] == nums[lo - 1]:\n",
    "                    lo += 1"
   ]
  },
  {
   "cell_type": "markdown",
   "id": "cbadb9a2",
   "metadata": {},
   "source": [
    "## Q5\n",
    "Given an integer array nums and an integer k, return the kth largest\n",
    "element in the array. Note that it is the kth largest element in the sorted order,\n",
    "not the kth distinct element.\n",
    "### Example 1:\n",
    "Input: nums = [3,2,1,5,6,4], k = 2\n",
    "\n",
    "Output: 5"
   ]
  },
  {
   "cell_type": "code",
   "execution_count": 26,
   "id": "03f2a647",
   "metadata": {},
   "outputs": [
    {
     "name": "stdout",
     "output_type": "stream",
     "text": [
      "5\n"
     ]
    }
   ],
   "source": [
    "class Solution:\n",
    "    def findKthLargest(self, nums, k):\n",
    "        \"\"\"\n",
    "        :type nums: List[int]\n",
    "        :type k: int\n",
    "        :rtype: int\n",
    "        \"\"\"\n",
    "        return heapq.nlargest(k, nums)[-1]\n",
    "    \n",
    "solution = Solution()\n",
    "nums = [3, 2, 1, 5, 6, 4]\n",
    "k = 2\n",
    "result = solution.findKthLargest(nums, k)\n",
    "print(result)\n"
   ]
  },
  {
   "cell_type": "markdown",
   "id": "da9bb813",
   "metadata": {},
   "source": [
    "## Q6\n",
    "Given an integer array nums and an integer k, return the kth smallest\n",
    "element in the array. Note that it is the kth smallest element in the sorted\n",
    "order, not the kth distinct element.\n",
    "### Example 1:\n",
    "\n",
    "Input: nums = [3,2,1,5,6,4], k = 2\n",
    "\n",
    "Output: 2\n"
   ]
  },
  {
   "cell_type": "code",
   "execution_count": 29,
   "id": "00ba8f0e",
   "metadata": {},
   "outputs": [
    {
     "name": "stdout",
     "output_type": "stream",
     "text": [
      "2\n"
     ]
    }
   ],
   "source": [
    "from typing import List\n",
    "\n",
    "class Solution:\n",
    "    def findKthSmallest(self, nums: List[int], k: int) -> int:\n",
    "        nums.sort()\n",
    "        return nums[k - 1]\n",
    "solution = Solution()\n",
    "nums = [3, 2, 1, 5, 6, 4]\n",
    "k = 2\n",
    "result = solution.findKthSmallest(nums, k)\n",
    "print(result)\n"
   ]
  },
  {
   "cell_type": "markdown",
   "id": "9eef0b95",
   "metadata": {},
   "source": [
    "# Class Notes 2\n",
    "## Lecture 2- Arrays"
   ]
  },
  {
   "cell_type": "markdown",
   "id": "4ab112e6",
   "metadata": {},
   "source": [
    "# Q1\n",
    "\n",
    "**Given an array nums containing n distinct numbers in the range [0, n], return the only number in the range that is missing from the array.**\n",
    "\n",
    "**Example 1:**\n",
    "\n",
    "**Input: nums = [3,0,1]**\n",
    "\n",
    "**Output: 2**\n",
    "\n",
    "**Explanation: n = 3 since there are 3 numbers, so all numbers are in the range [0,3]. 2 is the missing number in the range since it does not appear in nums.**\n",
    "\n",
    "**TC: O(n)**\n",
    "\n",
    "**SC: O (n)**\n"
   ]
  },
  {
   "cell_type": "code",
   "execution_count": 47,
   "id": "e05bb37d",
   "metadata": {},
   "outputs": [
    {
     "name": "stdout",
     "output_type": "stream",
     "text": [
      "2\n"
     ]
    }
   ],
   "source": [
    "class Solution:\n",
    "    def missingNumber(self, nums):\n",
    "        numSet = set(nums)\n",
    " \n",
    "        expectedNumCount = len(nums) + 1\n",
    "        for number in range(expectedNumCount):\n",
    "            if number not in numSet:\n",
    "                return number\n",
    " \n",
    "        return -1\n",
    "\n",
    "solution = Solution()\n",
    "nums = [3, 0, 1]\n",
    "result = solution.missingNumber(nums)\n",
    "print(result)\n"
   ]
  },
  {
   "cell_type": "markdown",
   "id": "704d4098",
   "metadata": {},
   "source": [
    "# Q2\n",
    "\n",
    "**Given an array of intervals where intervals[i] = [starti, endi], merge all overlapping intervals, and return an array of the non-overlapping intervals that cover all the intervals in the input.**\n",
    "\n",
    "**Example 1:**\n",
    "\n",
    "**Input: intervals = [[1,3],[2,6],[8,10],[15,18]]**\n",
    "\n",
    "**Output: [[1,6],[8,10],[15,18]]**\n",
    "\n",
    "**Explanation: Since intervals [1,3] and [2,6] overlap, merge them into [1,6].**\n",
    "\n",
    "**Solution:**\n",
    "\n",
    "**TC : O(nlogn)**\n",
    "\n",
    "**SC : O (log n)**"
   ]
  },
  {
   "cell_type": "code",
   "execution_count": 33,
   "id": "c11a08dc",
   "metadata": {},
   "outputs": [
    {
     "name": "stdout",
     "output_type": "stream",
     "text": [
      "[[1, 6], [8, 10], [15, 18]]\n"
     ]
    }
   ],
   "source": [
    "class Solution:\n",
    "    def merge(self, intervals):\n",
    "        intervals.sort(key=lambda x: x[0])\n",
    "        merged = []\n",
    "        for interval in intervals:\n",
    "            if not merged or merged[-1][1] < interval[0]:\n",
    "                merged.append(interval)\n",
    "            else:\n",
    "                merged[-1][1] = max(merged[-1][1], interval[1])\n",
    "        return merged\n",
    "    \n",
    "solution = Solution()\n",
    "intervals = [[1,3],[2,6],[8,10],[15,18]]\n",
    "result = solution.merge(intervals)\n",
    "print(result)\n",
    "    "
   ]
  },
  {
   "cell_type": "markdown",
   "id": "a5330675",
   "metadata": {},
   "source": [
    "# Q3\n",
    "\n",
    "**You are given two integer arrays nums1 and nums2, sorted in non-decreasing order, and two integers m and n, representing the number of elements in nums1 and nums2 respectively.**\n",
    "\n",
    "**Merge nums1 and nums2 into a single array sorted in non-decreasing order.**\n",
    "\n",
    "**The final sorted array should not be returned by the function, but instead be stored inside the array nums1. To accommodate this, nums1 has a length of m + n, where the first m elements denote the elements that should be merged, and the last n elements are set to 0 and should be ignored. nums2 has a length of n.**\n",
    "\n",
    "**Example 1:**\n",
    "\n",
    "**Input: nums1 = [1,2,3,0,0,0], m = 3, nums2 = [2,5,6], n = 3**\n",
    "\n",
    "**Output: [1,2,2,3,5,6]**\n",
    "\n",
    "**Explanation: The arrays we are merging are [1,2,3] and [2,5,6].**\n",
    "\n",
    "**The result of the merge is [1,2,2,3,5,6] with the underlined elements coming from nums1.**\n",
    "\n",
    "**Solution:**\n",
    "\n",
    "**TC : O(nlogn)**\n",
    "\n",
    "**SC : O(log n)**\n"
   ]
  },
  {
   "cell_type": "code",
   "execution_count": 41,
   "id": "2e470b06",
   "metadata": {},
   "outputs": [
    {
     "name": "stdout",
     "output_type": "stream",
     "text": [
      "[1, 2, 2, 3, 5, 6]\n"
     ]
    }
   ],
   "source": [
    "class Solution:\n",
    "    def merge(self, nums1, m, nums2, n):\n",
    "        nums1Copy = nums1[:m]\n",
    "        p1, p2 = 0, 0\n",
    "        p = 0\n",
    " \n",
    "        while p < m + n:\n",
    "            if p2 >= n or (p1 < m and nums1Copy[p1] < nums2[p2]):\n",
    "                nums1[p] = nums1Copy[p1]\n",
    "                p1 += 1\n",
    "            else:\n",
    "                nums1[p] = nums2[p2]\n",
    "                p2 += 1\n",
    "            p += 1\n",
    "            \n",
    "solution = Solution()\n",
    "nums1 = [1,2,3,0,0,0]\n",
    "m = 3\n",
    "nums2 = [2,5,6]\n",
    "n = 3\n",
    "solution.merge(nums1, m, nums2, n)\n",
    "print(nums1)\n"
   ]
  },
  {
   "cell_type": "markdown",
   "id": "9fee6871",
   "metadata": {},
   "source": [
    "# Q4\n",
    "\n",
    "**Given an array nums of size n, return the majority element.**\n",
    "\n",
    "**The majority element is the element that appears more than ⌊n / 2⌋ times. You may assume that the majority element always exists in the array.**\n",
    "\n",
    "**Example 1:**\n",
    "\n",
    "**Input: nums = [3,2,3]**\n",
    "\n",
    "**Output: 3**\n",
    "\n",
    "**Solution:**\n",
    "\n",
    "**TC: O(nlogn)**\n",
    "\n",
    "**SC : O(logn)**\n",
    "\n"
   ]
  },
  {
   "cell_type": "code",
   "execution_count": 42,
   "id": "f251c16f",
   "metadata": {},
   "outputs": [
    {
     "name": "stdout",
     "output_type": "stream",
     "text": [
      "3\n"
     ]
    }
   ],
   "source": [
    "class Solution:\n",
    "    def majorityElement(self, nums):\n",
    "        nums.sort()\n",
    "        return nums[len(nums) // 2]\n",
    "    \n",
    "solution = Solution()\n",
    "nums = [3, 2, 3]\n",
    "result = solution.majorityElement(nums)\n",
    "print(result)\n"
   ]
  },
  {
   "cell_type": "markdown",
   "id": "b747ebdb",
   "metadata": {},
   "source": [
    "# Q5\n",
    "\n",
    "**Given an array of integers nums containing n + 1 integers where each integer is in the range [1, n] inclusive.**\n",
    "\n",
    "**There is only one repeated number in nums, return this repeated number.**\n",
    "\n",
    "**You must solve the problem without modifying the array nums and uses only constant extra space.**\n",
    "\n",
    "**Example 1:**\n",
    "\n",
    "**Input: nums = [1,3,4,2,2]**\n",
    "\n",
    "**Output: 2**\n",
    "\n",
    "**TC : O(n)**\n",
    "\n",
    "**SC : O(n)**\n",
    "\n"
   ]
  },
  {
   "cell_type": "code",
   "execution_count": 43,
   "id": "bcc243c6",
   "metadata": {},
   "outputs": [
    {
     "name": "stdout",
     "output_type": "stream",
     "text": [
      "2\n"
     ]
    }
   ],
   "source": [
    "class Solution:\n",
    "    def findDuplicate(self, nums):\n",
    "        seen = set()\n",
    "        for num in nums:\n",
    "            if num in seen:\n",
    "                return num\n",
    "            seen.add(num)\n",
    "        return -1\n",
    "    \n",
    "solution = Solution()\n",
    "nums = [1,3,4,2,2]\n",
    "result = solution.findDuplicate(nums)\n",
    "print(result)\n"
   ]
  },
  {
   "cell_type": "markdown",
   "id": "1b7865a8",
   "metadata": {},
   "source": [
    "# Q6\n",
    "\n",
    "**There are many situations where we use integer values as index in array to see presence or absence. We can use bit manipulations to optimize space in such problems.**\n",
    "\n",
    "**Let us consider the below problem as an example.**\n",
    "\n",
    "**Given two numbers say a and b, mark the multiples of 2 and 5 between a and b and output each of the multiples.**\n",
    "\n",
    "**Note : We have to mark the multiples i.e save (key, value) pairs in memory such that each key either has a value as 1 or 0 representing a multiple of 2 or 5 or not respectively.**\n",
    "\n",
    "**Examples :**\n",
    "\n",
    "**Input : 2 10**\n",
    "\n",
    "**Output : 2 4 5 6 8 10**\n",
    "\n",
    "**Input: 60 95**\n",
    "\n",
    "**Output: 60 62 64 65 66 68 70 72 74 75 76 78**\n",
    "\n",
    "**80 82 84 85 86 88 90 92 94 95**\n",
    "\n",
    "**Solution:**\n",
    "\n",
    "**TC : O (n)**\n",
    "\n",
    "**SC : O(n)**\n"
   ]
  },
  {
   "cell_type": "code",
   "execution_count": 46,
   "id": "1bf352a9",
   "metadata": {},
   "outputs": [
    {
     "name": "stdout",
     "output_type": "stream",
     "text": [
      "60 62 64 65 66 68 70 "
     ]
    }
   ],
   "source": [
    "def main():\n",
    "    a = 60\n",
    "    b = 70\n",
    "    size = abs(b - a) + 1\n",
    "    array = [0] * size\n",
    " \n",
    "    for i in range(a, b + 1):\n",
    "        if i % 2 == 0 or i % 5 == 0:\n",
    "            array[i - a] = 1\n",
    " \n",
    "    for i in range(a, b + 1):\n",
    "        if array[i - a] == 1:\n",
    "            print(i, end=' ')\n",
    " \n",
    "if __name__ == '__main__':\n",
    "    main()\n",
    "    \n",
    "    "
   ]
  },
  {
   "cell_type": "markdown",
   "id": "480451d0",
   "metadata": {},
   "source": [
    "# Q7\n",
    "\n",
    "**Given an array of positive integers. We need to make the given array a ‘Palindrome’. The only allowed operation is”merging” (of two adjacent elements). Merging two adjacent elements means replacing them with their sum. The task is to find the minimum number of merge operations required to make the given array a ‘Palindrome’.**\n",
    "\n",
    "**To make any array a palindrome, we can simply apply merge operation n-1 times where n is the size of the array (because a single-element array is always palindromic, similar to a single-character string). In that case, the size of array will be reduced to 1. But in this problem, we are asked to do it in the minimum number of operations.**\n",
    "\n",
    "**Example :**\n",
    "\n",
    "**Input : arr[] = {15, 4, 15}**\n",
    "\n",
    "**Output : 0**\n",
    "\n",
    "**Array is already a palindrome. So we do not need any merge operation.**\n",
    "\n",
    "**Input : arr[] = {1, 4, 5, 1}**\n",
    "\n",
    "**Output : 1**\n",
    "\n",
    "**We can make given array palindrome with minimum one merging (merging 4 and 5 to make 9)**\n",
    "\n",
    "**Input : arr[] = {11, 14, 15, 99}**\n",
    "\n",
    "**Output : 3**\n",
    "\n",
    "**We need to merge all elements to make a palindrome.**\n",
    "\n",
    "**TC : O(n)**\n",
    "\n",
    "**SC : O(1)**\n"
   ]
  },
  {
   "cell_type": "code",
   "execution_count": 19,
   "id": "202a9cee",
   "metadata": {},
   "outputs": [
    {
     "name": "stdout",
     "output_type": "stream",
     "text": [
      "Count of minimum operations is 1\n"
     ]
    }
   ],
   "source": [
    "def findMinOps(arr, n):\n",
    "    ans = 0  # Initialize result\n",
    " \n",
    "    # Start from two corners\n",
    "    i, j = 0, n - 1\n",
    "    while i <= j:\n",
    "        # If corner elements are the same,\n",
    "        # problem reduces arr[i+1..j-1]\n",
    "        if arr[i] == arr[j]:\n",
    "            i += 1\n",
    "            j -= 1\n",
    "        # If the left element is greater, then\n",
    "        # we merge the right two elements\n",
    "        elif arr[i] > arr[j]:\n",
    "            # Need to merge from the tail.\n",
    "            j -= 1\n",
    "            arr[j] += arr[j + 1]\n",
    "            ans += 1\n",
    "        # Else we merge the left two elements\n",
    "        else:\n",
    "            i += 1\n",
    "            arr[i] += arr[i - 1]\n",
    "            ans += 1\n",
    " \n",
    "    return ans\n",
    " \n",
    "# Driver method to test the above function\n",
    "arr = [1, 4, 5, 9, 1]\n",
    "print(\"Count of minimum operations is\", findMinOps(arr, len(arr)))"
   ]
  },
  {
   "cell_type": "markdown",
   "id": "82bce528",
   "metadata": {},
   "source": [
    "# Class Notes 3\n",
    "## Lecture 3- Arrays"
   ]
  },
  {
   "cell_type": "markdown",
   "id": "5e66185b",
   "metadata": {},
   "source": [
    "# Q1\n",
    "\n",
    "**Implement [pow(x, n)](http://www.cplusplus.com/reference/valarray/pow/), which calculates x raised to the power n (i.e., xn).**\n",
    "\n",
    "**Example 1:**\n",
    "\n",
    "**Input: x = 2.00000, n = 10**\n",
    "\n",
    "**Output: 1024.00000**\n",
    "\n",
    "**TC : O(log n)**\n",
    "\n",
    "**SC : O(1)**\n"
   ]
  },
  {
   "cell_type": "code",
   "execution_count": 25,
   "id": "a00376c4",
   "metadata": {},
   "outputs": [
    {
     "name": "stdout",
     "output_type": "stream",
     "text": [
      "1024.00000\n"
     ]
    }
   ],
   "source": [
    "class Solution:\n",
    "    def pow(self, x, n):\n",
    "        if n == 0:\n",
    "            return 1\n",
    "        if n < 0:\n",
    "            n = -n\n",
    "            x = 1 / x\n",
    "        return x * self.pow(x * x, n // 2) if n % 2 else self.pow(x * x, n // 2)\n",
    "    \n",
    "# Test case\n",
    "solution = Solution()\n",
    "x = 2.0\n",
    "n = 10\n",
    "result = solution.pow(x, n)\n",
    "print(\"{:.5f}\".format(result))    "
   ]
  },
  {
   "cell_type": "markdown",
   "id": "db42cc8f",
   "metadata": {},
   "source": [
    "# Q2\n",
    "\n",
    "**A permutation of an array of integers is an arrangement of its members into a sequence or linear order.**\n",
    "\n",
    "- **For example, for arr = [1,2,3], the following are all the permutations of arr: [1,2,3], [1,3,2], [2, 1, 3], [2, 3, 1], [3,1,2], [3,2,1].**\n",
    "\n",
    "**The next permutation of an array of integers is the next lexicographically greater permutation of its integer. More formally, if all the permutations of the array are sorted in one container according to their lexicographical order, then the next permutation of that array is the permutation that follows it in the sorted container. If such arrangement is not possible, the array must be rearranged as the lowest possible order (i.e., sorted in ascending order).**\n",
    "\n",
    "- **For example, the next permutation of arr = [1,2,3] is [1,3,2].**\n",
    "- **Similarly, the next permutation of arr = [2,3,1] is [3,1,2].**\n",
    "- **While the next permutation of arr = [3,2,1] is [1,2,3] because [3,2,1] does not have a lexicographical larger rearrangement.**\n",
    "\n",
    "**Given an array of integers nums, *find the next permutation of* nums.**\n",
    "\n",
    "**The replacement must be [in place](http://en.wikipedia.org/wiki/In-place_algorithm) and use only constant extra memory.**\n",
    "\n",
    "**Example 1:**\n",
    "\n",
    "**Input: nums = [1,2,3]**\n",
    "\n",
    "**Output: [1,3,2]**\n",
    "\n",
    "**Time complexity: *O*(*n*). In worst case, only two scans of the whole array are needed.**\n",
    "\n",
    "**Space complexity: *O*(1). No extra space is used. In place replacements are done.**\n",
    "\n"
   ]
  },
  {
   "cell_type": "code",
   "execution_count": 19,
   "id": "d98f320f",
   "metadata": {},
   "outputs": [
    {
     "name": "stdout",
     "output_type": "stream",
     "text": [
      "[1, 3, 2]\n"
     ]
    }
   ],
   "source": [
    "def next_permutation(nums):\n",
    "    i = len(nums) - 2\n",
    "    while i >= 0 and nums[i + 1] <= nums[i]:\n",
    "        i -= 1\n",
    "    if i >= 0:\n",
    "        j = len(nums) - 1\n",
    "        while nums[j] <= nums[i]:\n",
    "            j -= 1\n",
    "        nums[i], nums[j] = nums[j], nums[i]\n",
    "    reverse(nums, i + 1)\n",
    "\n",
    "def reverse(nums, start):\n",
    "    i, j = start, len(nums) - 1\n",
    "    while i < j:\n",
    "        nums[i], nums[j] = nums[j], nums[i]\n",
    "        i += 1\n",
    "        j -= 1\n",
    "\n",
    "# Test case\n",
    "nums = [1, 2, 3]\n",
    "next_permutation(nums)\n",
    "print(nums)\n"
   ]
  },
  {
   "cell_type": "markdown",
   "id": "7fea3366",
   "metadata": {},
   "source": [
    "# Q3\n",
    "\n",
    "**Given an array arr[] of distinct elements size N that is sorted and then around an unknown point, the task is to check if the array has a pair with a given sum X.**\n",
    "\n",
    "**Examples :**\n",
    "\n",
    "**Input: arr[] = {11, 15, 6, 8, 9, 10}, X = 16**\n",
    "\n",
    "**Output: true**\n",
    "\n",
    "**Explanation: There is a pair (6, 10) with sum 16**\n",
    "\n",
    "**Time Complexity: O(n), where n is the length of the input array.**\n",
    "\n",
    "**Space Complexity: O(1).**\n",
    "\n"
   ]
  },
  {
   "cell_type": "code",
   "execution_count": 4,
   "id": "30eadd2c",
   "metadata": {},
   "outputs": [
    {
     "name": "stdout",
     "output_type": "stream",
     "text": [
      "True\n"
     ]
    }
   ],
   "source": [
    "def find_pair(arr, x):\n",
    "    n = len(arr)\n",
    "    # find pivot element\n",
    "    pivot = 0\n",
    "    for i in range(n - 1):\n",
    "        if arr[i] > arr[i + 1]:\n",
    "            pivot = i + 1\n",
    "            break\n",
    "    left = pivot\n",
    "    right = pivot - 1\n",
    "    while left != right:\n",
    "        if arr[left] + arr[right] == x:\n",
    "            return True\n",
    "        elif arr[left] + arr[right] < x:\n",
    "            left = (left + 1) % n\n",
    "        else:\n",
    "            right = (right - 1 + n) % n\n",
    "    return False\n",
    " \n",
    "arr = [11, 15, 6, 8, 9, 10]\n",
    "x = 16\n",
    "print(find_pair(arr, x))"
   ]
  },
  {
   "cell_type": "markdown",
   "id": "599b1837",
   "metadata": {},
   "source": [
    "# Q4\n",
    "\n",
    "**Given an array nums with n objects colored red, white, or blue, sort them [in-place](https://en.wikipedia.org/wiki/In-place_algorithm) so that objects of the same color are adjacent, with the colors in the order red, white, and blue.**\n",
    "\n",
    "**We will use the integers 0, 1, and 2 to represent the color red, white, and blue, respectively.**\n",
    "\n",
    "**You must solve this problem without using the library's sort function.**\n",
    "\n",
    "**Example 1:**\n",
    "\n",
    "**Input: nums = [2,0,2,1,1,0]**\n",
    "\n",
    "**Output: [0,0,1,1,2,2]**\n",
    "\n",
    "**Solution:**\n",
    "\n",
    "**TC : O(n)**\n",
    "\n",
    "**SC : O(1)**\n",
    "\n"
   ]
  },
  {
   "cell_type": "code",
   "execution_count": 17,
   "id": "e186bb44",
   "metadata": {},
   "outputs": [
    {
     "name": "stdout",
     "output_type": "stream",
     "text": [
      "[0, 0, 1, 1, 2, 2]\n"
     ]
    }
   ],
   "source": [
    "def sort_colors(nums):\n",
    "    p0 = 0\n",
    "    curr = 0\n",
    "    p2 = len(nums) - 1\n",
    " \n",
    "    while curr <= p2:\n",
    "        if nums[curr] == 0:\n",
    "            nums[p0], nums[curr] = nums[curr], nums[p0]\n",
    "            p0 += 1\n",
    "            curr += 1\n",
    "        elif nums[curr] == 2:\n",
    "            nums[curr], nums[p2] = nums[p2], nums[curr]\n",
    "            p2 -= 1\n",
    "        else:\n",
    "            curr += 1\n",
    "            \n",
    "# Test case\n",
    "nums = [2, 0, 2, 1, 1, 0]\n",
    "sorted_nums = sortColors(nums)\n",
    "print(sorted_nums)\n",
    "          "
   ]
  },
  {
   "cell_type": "markdown",
   "id": "b7c3e49d",
   "metadata": {},
   "source": [
    "# Q5\n",
    "\n",
    "**Given an integer array nums, rotate the array to the right by k steps, where k is non-negative.**\n",
    "\n",
    "**Example 1:**\n",
    "\n",
    "**Input: nums = [1,2,3,4,5,6,7], k = 3**\n",
    "\n",
    "**Output: [5,6,7,1,2,3,4]**\n",
    "\n",
    "**Explanation:**\n",
    "\n",
    "**rotate 1 steps to the right: [7,1,2,3,4,5,6]**\n",
    "\n",
    "**rotate 2 steps to the right: [6,7,1,2,3,4,5]**\n",
    "\n",
    "**rotate 3 steps to the right: [5,6,7,1,2,3,4]**\n",
    "\n",
    "**Solution:**\n",
    "\n",
    "**TC: O(n)**\n",
    "\n",
    "**SC: O(1)**\n",
    "\n"
   ]
  },
  {
   "cell_type": "code",
   "execution_count": 11,
   "id": "53ecc295",
   "metadata": {},
   "outputs": [
    {
     "name": "stdout",
     "output_type": "stream",
     "text": [
      "[5, 6, 7, 1, 2, 3, 4]\n"
     ]
    }
   ],
   "source": [
    "def rotate(nums, k):\n",
    "    k = k % len(nums)\n",
    "    reverse(nums, 0, len(nums)-1)\n",
    "    reverse(nums, 0, k-1)\n",
    "    reverse(nums, k, len(nums)-1)\n",
    "    return nums\n",
    "def reverse(nums, start, end):\n",
    "    while start < end:\n",
    "        nums[start], nums[end] = nums[end], nums[start]\n",
    "        start += 1\n",
    "        end -= 1\n",
    "\n",
    "def rotate(nums, k):\n",
    "    k %= len(nums)\n",
    "    nums[:] = nums[-k:] + nums[:-k]\n",
    "\n",
    "# Test case\n",
    "nums = [1, 2, 3, 4, 5, 6, 7]\n",
    "k = 3\n",
    "rotate(nums, k)\n",
    "print(nums)\n",
    "        "
   ]
  },
  {
   "cell_type": "markdown",
   "id": "1aa729a4",
   "metadata": {},
   "source": [
    "# Q6\n",
    "\n",
    "**Given a binary array nums, return *the maximum number of consecutive* 1*'s in the array*.**\n",
    "\n",
    "**Example 1:**\n",
    "\n",
    "**Input: nums = [1,1,0,1,1,1]**\n",
    "\n",
    "**Output: 3**\n",
    "\n",
    "**Explanation: The first two digits or the last three digits are consecutive 1s. The maximum number of consecutive 1s is 3.**\n",
    "\n",
    "**Solution:**\n",
    "\n",
    "**TC : O(n)**\n",
    "\n",
    "**SC : O(1)**\n",
    "\n"
   ]
  },
  {
   "cell_type": "code",
   "execution_count": 8,
   "id": "63ef5d47",
   "metadata": {},
   "outputs": [
    {
     "name": "stdout",
     "output_type": "stream",
     "text": [
      "3\n"
     ]
    }
   ],
   "source": [
    "def find_max_consecutive_ones(nums):\n",
    "    max_count = 0\n",
    "    count = 0\n",
    "\n",
    "    for num in nums:\n",
    "        if num == 1:\n",
    "            count += 1\n",
    "            max_count = max(max_count, count)\n",
    "        else:\n",
    "            count = 0\n",
    "\n",
    "    return max_count\n",
    "\n",
    "nums = [1, 1, 0, 1, 1, 1]\n",
    "max_consecutive_ones = find_max_consecutive_ones(nums)\n",
    "print(max_consecutive_ones)\n"
   ]
  },
  {
   "cell_type": "markdown",
   "id": "26ea2629",
   "metadata": {},
   "source": [
    "# Class Notes 4\n",
    "## Lecture 4- Arrays"
   ]
  },
  {
   "cell_type": "markdown",
   "id": "e12b95a9",
   "metadata": {},
   "source": [
    "# Q1\n",
    "**Given an m x n matrix, return *all elements of the* matrix *in spiral order*.**\n",
    "\n",
    "**Example 1:**\n",
    "\n",
    "![image](https://pwskills.notion.site/image/https%3A%2F%2Fs3-us-west-2.amazonaws.com%2Fsecure.notion-static.com%2F354fb8ed-fd26-4aee-9ad0-4a162278e757%2FScreenshot_2023-05-28_143534.png?id=1010e6cd-dac4-4243-aeac-8d2beb28991b&table=block&spaceId=6fae2e0f-dedc-48e9-bc59-af2654c78209&width=640&userId=&cache=v2)    \n",
    "\n",
    "**Input: matrix = [[1,2,3],[4,5,6],[7,8,9]]**\n",
    "\n",
    "**Output: [1,2,3,6,9,8,7,4,5]**\n",
    "\n",
    "**Solution:**\n",
    "\n",
    "**TC: O(n)**\n",
    "\n",
    "**SC: O(1)**\n"
   ]
  },
  {
   "cell_type": "code",
   "execution_count": 26,
   "id": "e7e30653",
   "metadata": {},
   "outputs": [],
   "source": [
    "def spiralOrder(matrix):\n",
    "    result = []\n",
    "    rows = len(matrix)\n",
    "    columns = len(matrix[0])\n",
    "    up = 0\n",
    "    left = 0\n",
    "    right = columns - 1\n",
    "    down = rows - 1\n",
    " \n",
    "    while len(result) < rows * columns:\n",
    "        # Traverse from left to right.\n",
    "        for col in range(left, right + 1):\n",
    "            result.append(matrix[up][col])\n",
    "        # Traverse downwards.\n",
    "        for row in range(up + 1, down + 1):\n",
    "            result.append(matrix[row][right])\n",
    "        # Make sure we are now on a different row.\n",
    "        if up != down:\n",
    "            # Traverse from right to left.\n",
    "            for col in range(right - 1, left - 1, -1):\n",
    "                result.append(matrix[down][col])\n",
    "        # Make sure we are now on a different column.\n",
    "        if left != right:\n",
    "            # Traverse upwards.\n",
    "            for row in range(down - 1, up, -1):\n",
    "                result.append(matrix[row][left])\n",
    "        left += 1\n",
    "        right -= 1\n",
    "        up += 1\n",
    "        down -= 1\n",
    " \n",
    "    return result"
   ]
  },
  {
   "cell_type": "code",
   "execution_count": 27,
   "id": "5b19ed29",
   "metadata": {},
   "outputs": [
    {
     "name": "stdout",
     "output_type": "stream",
     "text": [
      "[1, 2, 3, 6, 9, 8, 7, 4, 5]\n"
     ]
    }
   ],
   "source": [
    "# Example matrix\n",
    "matrix = [\n",
    "    [1, 2, 3],\n",
    "    [4, 5, 6],\n",
    "    [7, 8, 9]\n",
    "]\n",
    "\n",
    "# Call the spiralOrder function\n",
    "result = spiralOrder(matrix)\n",
    "print(result)\n"
   ]
  },
  {
   "cell_type": "markdown",
   "id": "e0ce8b31",
   "metadata": {},
   "source": [
    "# Q2\n",
    "\n",
    "**Given a square matrix mat, return the sum of the matrix diagonals.**\n",
    "\n",
    "**Only include the sum of all the elements on the primary diagonal and all the elements on the secondary diagonal that are not part of the primary diagonal.**\n",
    "\n",
    "**Example 1:**\n",
    "\n",
    "![image](https://pwskills.notion.site/image/https%3A%2F%2Fs3-us-west-2.amazonaws.com%2Fsecure.notion-static.com%2F1c091d58-202a-4e92-aefc-e2bb581fe27c%2FScreenshot_2023-05-28_143805.png?id=8e0c9922-c8e0-47db-805d-de2b8969722c&table=block&spaceId=6fae2e0f-dedc-48e9-bc59-af2654c78209&width=920&userId=&cache=v2)\n",
    "\n",
    "\n",
    "**Input: mat = [[1,2,3],**\n",
    "\n",
    "**[4,5,6],**\n",
    "\n",
    "**[7,8,9]]**\n",
    "\n",
    "**Output: 25**\n",
    "\n",
    "**Explanation: Diagonals sum: 1 + 5 + 9 + 3 + 7 = 25**\n",
    "\n",
    "**Notice that element mat[1][1] = 5 is counted only once.**\n",
    "\n",
    "**Solution:**\n",
    "\n",
    "**TC: O(m+n)**\n",
    "\n",
    "**SC: O(1)**\n",
    "\n"
   ]
  },
  {
   "cell_type": "code",
   "execution_count": 34,
   "id": "6f49f63e",
   "metadata": {},
   "outputs": [
    {
     "data": {
      "text/plain": [
       "25"
      ]
     },
     "execution_count": 34,
     "metadata": {},
     "output_type": "execute_result"
    }
   ],
   "source": [
    "def diagonalSum(mat):\n",
    "    n = len(mat)\n",
    "    ans = 0\n",
    " \n",
    "    for i in range(n):\n",
    "        # Add elements from primary diagonal.\n",
    "        ans += mat[i][i]\n",
    "        # Add elements from secondary diagonal.\n",
    "        ans += mat[n - 1 - i][i]\n",
    " \n",
    "    # If n is odd, subtract the middle element as it's added twice.\n",
    "    if n % 2 != 0:\n",
    "        ans -= mat[n // 2][n // 2]\n",
    " \n",
    "    return ans\n",
    "\n",
    "mat = [[1,2,3],[4,5,6],[7,8,9]]\n",
    "diagonalSum(mat)\n",
    "    "
   ]
  },
  {
   "cell_type": "markdown",
   "id": "1ae5be06",
   "metadata": {},
   "source": [
    "# Q3\n",
    "\n",
    "**Given a m x n matrix grid which is sorted in non-increasing order both row-wise and column-wise, return *the number of negative numbers in* grid.**\n",
    "\n",
    "**Example 1:**\n",
    "\n",
    "**Input: grid = [[4,3,2,-1],[3,2,1,-1],[1,1,-1,-2],[-1,-1,-2,-3]]**\n",
    "\n",
    "**Output: 8**\n",
    "\n",
    "**Explanation: There are 8 negatives number in the matrix.**\n",
    "\n",
    "**TC: O(m*n)**\n",
    "\n",
    "**SC : O(1)**\n"
   ]
  },
  {
   "cell_type": "code",
   "execution_count": 45,
   "id": "398ebb29",
   "metadata": {},
   "outputs": [
    {
     "name": "stdout",
     "output_type": "stream",
     "text": [
      "8\n"
     ]
    }
   ],
   "source": [
    "class Solution:\n",
    "    def countNegatives(self, grid):\n",
    "        count = 0\n",
    "        n = len(grid[0])\n",
    "        currRowNegativeIndex = n - 1\n",
    "\n",
    "        for row in grid:\n",
    "            while currRowNegativeIndex >= 0 and row[currRowNegativeIndex] < 0:\n",
    "                currRowNegativeIndex -= 1\n",
    "            count += (n - (currRowNegativeIndex + 1))\n",
    "\n",
    "        return count\n",
    "\n",
    "# Example\n",
    "grid = [\n",
    "    [4, 3, 2, -1],\n",
    "    [3, 2, 1, -1],\n",
    "    [1, 1, -1, -2],\n",
    "    [-1, -1, -2, -3]\n",
    "]\n",
    "\n",
    "solution = Solution()\n",
    "count = solution.countNegatives(grid)\n",
    "print(count) \n"
   ]
  },
  {
   "cell_type": "markdown",
   "id": "d28cab39",
   "metadata": {},
   "source": [
    "# Q4\n",
    "\n",
    "**You are given an m x n integer grid accounts where accounts[i][j] is the amount of money the ith customer has in the jth bank. Return *the wealth that the richest customer has.***\n",
    "\n",
    "**A customer's wealth is the amount of money they have in all their bank accounts. The richest customer is the customer that has the maximum wealth.**\n",
    "\n",
    "**Example 1:**\n",
    "\n",
    "**Input: accounts = [[1,2,3],[3,2,1]]**\n",
    "\n",
    "**Output: 6**\n",
    "\n",
    "**Explanation:**\n",
    "\n",
    "**1st customer has wealth = 1 + 2 + 3 = 6**\n",
    "\n",
    "**2nd customer has wealth = 3 + 2 + 1 = 6**\n",
    "\n",
    "**Both customers are considered the richest with a wealth of 6 each, so return 6.**\n",
    "\n",
    "**Solution:**\n",
    "\n",
    "**TC: O(m*n)**\n",
    "\n",
    "**SC : O(1)**\n",
    "\n"
   ]
  },
  {
   "cell_type": "code",
   "execution_count": 46,
   "id": "0dc3cca0",
   "metadata": {},
   "outputs": [
    {
     "name": "stdout",
     "output_type": "stream",
     "text": [
      "6\n"
     ]
    }
   ],
   "source": [
    "class Solution:\n",
    "    def maximumWealth(self, accounts):\n",
    "        maxWealthSoFar = 0\n",
    " \n",
    "        for account in accounts:\n",
    "            currCustomerWealth = sum(account)\n",
    "            maxWealthSoFar = max(maxWealthSoFar, currCustomerWealth)\n",
    " \n",
    "        return maxWealthSoFar\n",
    "\n",
    "\n",
    "accounts = [[1,2,3],[3,2,1]]\n",
    "solution = Solution()\n",
    "count = solution.maximumWealth(accounts)\n",
    "print(count) \n"
   ]
  },
  {
   "cell_type": "code",
   "execution_count": null,
   "id": "94ab9a77",
   "metadata": {},
   "outputs": [],
   "source": []
  },
  {
   "cell_type": "markdown",
   "id": "81c90707",
   "metadata": {},
   "source": [
    "# Class Notes 5\n",
    "\n",
    "## Lecture 5- Arrays"
   ]
  },
  {
   "cell_type": "markdown",
   "id": "b66865e4",
   "metadata": {},
   "source": [
    "Q 1 Given an m x n matrix, return true if the matrix is Toeplitz. Otherwise, return false.\n",
    "A matrix is Toeplitz if every diagonal from top-left to bottom-right has the same elements.\n",
    "\n",
    "![image](https://pwskills.notion.site/image/https%3A%2F%2Fs3-us-west-2.amazonaws.com%2Fsecure.notion-static.com%2Fde645080-efb2-4e1f-b5dd-6df9e712a18a%2FUntitled.png?id=84bde411-c597-41df-a52e-fb91a9203cd8&table=block&spaceId=6fae2e0f-dedc-48e9-bc59-af2654c78209&width=840&userId=&cache=v2)\n",
    "\n",
    "**Example 1:**\n",
    "\n",
    "**Input:** matrix = [[1,2,3,4],[5,1,2,3],[9,5,1,2]]\n",
    "\n",
    "**Output:** true\n",
    "\n",
    "**Explanation:**\n",
    "\n",
    "In the above grid, the diagonals are:\n",
    "\n",
    "\"[9]\", \"[5, 5]\", \"[1, 1, 1]\", \"[2, 2, 2]\", \"[3, 3]\", \"[4]\".\n",
    "\n",
    "In each diagonal all elements are the same, so the answer is True.\n",
    "\n",
    "**Solution:**\n",
    "\n",
    "![image](https://pwskills.notion.site/image/https%3A%2F%2Fs3-us-west-2.amazonaws.com%2Fsecure.notion-static.com%2F2bcc96a2-9080-4218-b08a-e5f851293a3a%2FUntitled.png?id=427c52cc-1675-427f-b4b8-cb562a2da409&table=block&spaceId=6fae2e0f-dedc-48e9-bc59-af2654c78209&width=1200&userId=&cache=v2)\n",
    "\n",
    "**Time Complexity:** *O*(*M*∗*N*), as defined in the problem statement.\n",
    "\n",
    "**Space Complexity:** *O*(1)."
   ]
  },
  {
   "cell_type": "code",
   "execution_count": 1,
   "id": "78026162",
   "metadata": {},
   "outputs": [],
   "source": [
    "def isToeplitzMatrix(matrix):\n",
    "    for r in range(len(matrix)):\n",
    "        for c in range(len(matrix[0])):\n",
    "            if r > 0 and c > 0 and matrix[r-1][c-1] != matrix[r][c]:\n",
    "                return False\n",
    "    return True"
   ]
  },
  {
   "cell_type": "code",
   "execution_count": 3,
   "id": "5a9bdaf4",
   "metadata": {},
   "outputs": [
    {
     "name": "stdout",
     "output_type": "stream",
     "text": [
      "True\n"
     ]
    }
   ],
   "source": [
    "matrix = [\n",
    "    [1, 2, 3, 4],\n",
    "    [5, 1, 2, 3],\n",
    "    [9, 5, 1, 2],\n",
    "]\n",
    "\n",
    "result = isToeplitzMatrix(matrix)\n",
    "print(result)\n"
   ]
  },
  {
   "cell_type": "markdown",
   "id": "a02fba48",
   "metadata": {},
   "source": [
    "Q 2. Given a 2D integer array matrix, return *the **transpose** of* matrix.\n",
    "\n",
    "The **transpose** of a matrix is the matrix flipped over its main diagonal, switching the matrix's row and column indices.\n",
    "\n",
    "![image](https://pwskills.notion.site/image/https%3A%2F%2Fs3-us-west-2.amazonaws.com%2Fsecure.notion-static.com%2F0dfef934-1d97-463e-8d24-4aee05dc2493%2FUntitled.png?id=c754877f-0428-4a7d-bf0e-e9e192030f29&table=block&spaceId=6fae2e0f-dedc-48e9-bc59-af2654c78209&width=1480&userId=&cache=v2)\n",
    "\n",
    "**Example 1:**\n",
    "\n",
    "**Input:** matrix = [[1,2,3],[4,5,6],[7,8,9]]\n",
    "\n",
    "**Output:**\n",
    "\n",
    "[[1,4,7],[2,5,8],[3,6,9]]\n",
    "\n",
    "**Solution:**\n",
    "\n",
    "**Intuition**\n",
    "\n",
    "Observe how the cells move in groups when we rotate the image.\n",
    "\n",
    "![image](https://pwskills.notion.site/image/https%3A%2F%2Fs3-us-west-2.amazonaws.com%2Fsecure.notion-static.com%2F14092e92-3fd8-4284-acc7-de7a332d208a%2FUntitled.png?id=12d44661-98f0-4a39-a87d-170ed5ea78df&table=block&spaceId=6fae2e0f-dedc-48e9-bc59-af2654c78209&width=840&userId=&cache=v2)\n",
    "\n",
    "We can iterate over each group of four cells and rotate them.\n",
    "\n",
    "**Complexity Analysis**\n",
    "\n",
    "Let *M* be the number of cells in the matrix.\n",
    "\n",
    "Time complexity: O(*M*), as each cell is getting read once and written once.\n",
    "\n",
    "Space complexity: O(1) because we do not use any other additional data structures."
   ]
  },
  {
   "cell_type": "code",
   "execution_count": 4,
   "id": "74aed4de",
   "metadata": {},
   "outputs": [],
   "source": [
    "def transpose(A):\n",
    "    R = len(A)\n",
    "    C = len(A[0])\n",
    "    ans = [[0 for _ in range(R)] for _ in range(C)]\n",
    "    for r in range(R):\n",
    "        for c in range(C):\n",
    "            ans[c][r] = A[r][c]\n",
    "    return ans"
   ]
  },
  {
   "cell_type": "code",
   "execution_count": 5,
   "id": "c313a1b5",
   "metadata": {},
   "outputs": [
    {
     "name": "stdout",
     "output_type": "stream",
     "text": [
      "[[1, 4, 7], [2, 5, 8], [3, 6, 9]]\n"
     ]
    }
   ],
   "source": [
    "matrix = [\n",
    "    [1, 2, 3],\n",
    "    [4, 5, 6],\n",
    "    [7, 8, 9],\n",
    "]\n",
    "\n",
    "result = transpose(matrix)\n",
    "print(result)\n"
   ]
  },
  {
   "cell_type": "markdown",
   "id": "8eb0f8aa",
   "metadata": {},
   "source": [
    "**Q 3. You are given an n x n 2D matrix representing an image, rotate the image by **90** degrees (clockwise).**\n",
    "\n",
    "You have to rotate the image **[in-place](https://en.wikipedia.org/wiki/In-place_algorithm)**, which means you have to modify the input 2D matrix directly. **DO NOT** allocate another 2D matrix and do the rotation.\n",
    "\n",
    "**Example 1:**\n",
    "\n",
    "![image](https://pwskills.notion.site/image/https%3A%2F%2Fs3-us-west-2.amazonaws.com%2Fsecure.notion-static.com%2F349c356c-061b-4f09-819b-32ac3dcb8cdf%2FUntitled.png?id=2a5fae77-76f0-4d5a-b82b-fb7075cc7b69&table=block&spaceId=6fae2e0f-dedc-48e9-bc59-af2654c78209&width=1280&userId=&cache=v2)\n",
    "\n",
    "**Input:** matrix = [[1,2,3],[4,5,6],[7,8,9]]\n",
    "\n",
    "**Output:** [[7,4,1],[8,5,2],[9,6,3]]\n",
    "\n",
    "**Solution:**\n",
    "\n",
    "**Intuition and Algorithm**\n",
    "\n",
    "The transpose of a matrix A with dimensions R x C is a matrix *ans* with dimensions C x R for which ans[c][r] = A[r][c].\n",
    "\n",
    "We initialize a new matrix *ans* representing the answer. Then, we'll copy each entry of the matrix as appropriate.\n",
    "\n",
    "**Complexity Analysis**\n",
    "\n",
    "**Time Complexity:** *O*(*R*∗*C*), where *R* and *C* are the number of rows and columns in the given matrix A.\n",
    "\n",
    "**Space Complexity:** *O*(*R*∗*C*), the space used by the answer.\n"
   ]
  },
  {
   "cell_type": "code",
   "execution_count": 6,
   "id": "f603ffac",
   "metadata": {},
   "outputs": [],
   "source": [
    "def rotate(matrix):\n",
    "    n = len(matrix)\n",
    "    for i in range((n + 1) // 2):\n",
    "        for j in range(n // 2):\n",
    "            temp = matrix[n - 1 - j][i]\n",
    "            matrix[n - 1 - j][i] = matrix[n - 1 - i][n - j - 1]\n",
    "            matrix[n - 1 - i][n - j - 1] = matrix[j][n - 1 - i]\n",
    "            matrix[j][n - 1 - i] = matrix[i][j]\n",
    "            matrix[i][j] = temp"
   ]
  },
  {
   "cell_type": "code",
   "execution_count": 8,
   "id": "6728c1f7",
   "metadata": {},
   "outputs": [
    {
     "name": "stdout",
     "output_type": "stream",
     "text": [
      "[[7, 4, 1], [8, 5, 2], [9, 6, 3]]\n"
     ]
    }
   ],
   "source": [
    "matrix = [[1, 2, 3], [4, 5, 6], [7, 8, 9]]\n",
    "\n",
    "rotate(matrix)\n",
    "print(matrix)"
   ]
  },
  {
   "cell_type": "markdown",
   "id": "df6646a4",
   "metadata": {},
   "source": [
    "**Q 4.** Given a non-empty array of non-negative integers nums, the **degree** of this array is defined as the maximum frequency of any one of its elements.\n",
    "\n",
    "Your task is to find the smallest possible length of a (contiguous) subarray of nums, that has the same degree as nums.\n",
    "\n",
    "**Example 1:**\n",
    "\n",
    "**Input:** nums = [1,2,2,3,1]\n",
    "\n",
    "**Output:** 2\n",
    "\n",
    "**Explanation:**\n",
    "\n",
    "The input array has a degree of 2 because both elements 1 and 2 appear twice.\n",
    "\n",
    "Of the subarrays that have the same degree:\n",
    "\n",
    "[1, 2, 2, 3, 1], [1, 2, 2, 3], [2, 2, 3, 1], [1, 2, 2], [2, 2, 3], [2, 2]\n",
    "\n",
    "The shortest length is 2. So return 2.\n",
    "\n",
    "**Complexity Analysis**\n",
    "\n",
    "- Time Complexity: O(m*n)\n",
    "- Space Complexity: O(1)\n",
    "\n",
    "**Solution:**\n"
   ]
  },
  {
   "cell_type": "code",
   "execution_count": 21,
   "id": "8881654b",
   "metadata": {},
   "outputs": [],
   "source": [
    "def findShortestSubarray(nums):\n",
    "    count = {}\n",
    "    first_occurrence = {}\n",
    "    degree = 0\n",
    "    min_length = len(nums)\n",
    "    \n",
    "    for i, num in enumerate(nums):\n",
    "        if num not in count:\n",
    "            count[num] = 1\n",
    "            first_occurrence[num] = i\n",
    "        else:\n",
    "            count[num] += 1\n",
    "            \n",
    "        if count[num] > degree:\n",
    "            degree = count[num]\n",
    "            min_length = i - first_occurrence[num] + 1\n",
    "        elif count[num] == degree:\n",
    "            min_length = min(min_length, i - first_occurrence[num] + 1)\n",
    "    \n",
    "    return min_length\n"
   ]
  },
  {
   "cell_type": "code",
   "execution_count": 22,
   "id": "2d826a4a",
   "metadata": {},
   "outputs": [
    {
     "name": "stdout",
     "output_type": "stream",
     "text": [
      "2\n"
     ]
    }
   ],
   "source": [
    "nums = [1, 2, 2, 3, 1]\n",
    "result = findShortestSubarray(nums)\n",
    "print(result) "
   ]
  },
  {
   "cell_type": "code",
   "execution_count": null,
   "id": "7d4ca949",
   "metadata": {},
   "outputs": [],
   "source": []
  },
  {
   "cell_type": "markdown",
   "id": "4ac49491",
   "metadata": {},
   "source": [
    "# Class Notes 6\n",
    "## Lecture 6- Arrays"
   ]
  },
  {
   "cell_type": "markdown",
   "id": "43558a4f",
   "metadata": {},
   "source": [
    "**Q1**\n",
    "\n",
    "Given an m x n integer matrix matrix, if an element is 0, set its entire row and column to 0's.\n",
    "\n",
    "You must do it [in place](https://en.wikipedia.org/wiki/In-place_algorithm).\n",
    "\n",
    "**Example 1:**\n",
    "    \n",
    "![image](https://pwskills.notion.site/image/https%3A%2F%2Fs3-us-west-2.amazonaws.com%2Fsecure.notion-static.com%2Fd10c8425-caba-4fee-90e4-6994bd38c961%2FUntitled.png?id=b31652e0-5f89-4310-9c29-561379e32c44&table=block&spaceId=6fae2e0f-dedc-48e9-bc59-af2654c78209&width=1150&userId=&cache=v2)\n",
    "\n",
    "**Input:** matrix = [[1,1,1],[1,0,1],[1,1,1]]\n",
    "\n",
    "**Output:** [[1,0,1],[0,0,0],[1,0,1]]\n",
    "\n",
    "**Solution:**\n",
    "\n",
    "![image](https://pwskills.notion.site/image/https%3A%2F%2Fs3-us-west-2.amazonaws.com%2Fsecure.notion-static.com%2F54f836ec-1329-4e27-9e73-c95296a8c72e%2FUntitled.png?id=f3053f78-f486-4de2-ac88-387f2e400d9b&table=block&spaceId=6fae2e0f-dedc-48e9-bc59-af2654c78209&width=1190&userId=&cache=v2)\n",
    "\n",
    "**Complexity Analysis**\n",
    "\n",
    "- **Time Complexity:** *O*(*M*×*N*)\n",
    "- **Space Complexity:** *O*(1)"
   ]
  },
  {
   "cell_type": "code",
   "execution_count": 25,
   "id": "4636d66e",
   "metadata": {
    "code_folding": []
   },
   "outputs": [],
   "source": [
    "def setZeroes(matrix):\n",
    "    isCol = False\n",
    "    R = len(matrix)\n",
    "    C = len(matrix[0])\n",
    "\n",
    "    for i in range(R):\n",
    "        if matrix[i][0] == 0:\n",
    "            isCol = True\n",
    "\n",
    "        for j in range(1, C):\n",
    "            if matrix[i][j] == 0:\n",
    "                matrix[0][j] = 0\n",
    "                matrix[i][0] = 0\n",
    "\n",
    "    for i in range(1, R):\n",
    "        for j in range(1, C):\n",
    "            if matrix[i][0] == 0 or matrix[0][j] == 0:\n",
    "                matrix[i][j] = 0\n",
    "\n",
    "    if matrix[0][0] == 0:\n",
    "        for j in range(C):\n",
    "            matrix[0][j] = 0\n",
    "\n",
    "    if isCol:\n",
    "        for i in range(R):\n",
    "            matrix[i][0] = 0"
   ]
  },
  {
   "cell_type": "code",
   "execution_count": 28,
   "id": "6529c3ca",
   "metadata": {},
   "outputs": [
    {
     "name": "stdout",
     "output_type": "stream",
     "text": [
      "[[1, 0, 1], [0, 0, 0], [1, 0, 1]]\n"
     ]
    }
   ],
   "source": [
    "matrix = [[1, 1, 1], [1, 0, 1], [1, 1, 1]]\n",
    "setZeroes(matrix)\n",
    "print(matrix)"
   ]
  },
  {
   "cell_type": "markdown",
   "id": "51d51be2",
   "metadata": {},
   "source": [
    "**Q2**\n",
    "\n",
    "In MATLAB, there is a handy function called reshape which can reshape an m x n matrix into a new one with a different size r x c keeping its original data.\n",
    "\n",
    "You are given an m x n matrix mat and two integers r and c representing the number of rows and the number of columns of the wanted reshaped matrix.\n",
    "\n",
    "The reshaped matrix should be filled with all the elements of the original matrix in the same row-traversing order as they were.\n",
    "\n",
    "If the reshape operation with given parameters is possible and legal, output the new reshaped matrix; Otherwise, output the original matrix.\n",
    "\n",
    "**Example 1:**\n",
    "    \n",
    "![image](https://pwskills.notion.site/image/https%3A%2F%2Fs3-us-west-2.amazonaws.com%2Fsecure.notion-static.com%2F483d69f4-6955-431c-9223-39457094be05%2FUntitled.png?id=32772392-8934-4486-9a08-392fb6449ca1&table=block&spaceId=6fae2e0f-dedc-48e9-bc59-af2654c78209&width=1560&userId=&cache=v2)\n",
    "\n",
    "**Input:** mat = [[1,2],[3,4]], r = 1, c = 4\n",
    "\n",
    "**Output:**\n",
    "\n",
    "[[1,2,3,4]]\n",
    "\n",
    "**Solution:**\n",
    "\n",
    "The simplest method is to extract all the elements of the given matrix by reading the elements in a row-wise fashion. In this implementation, we use a queue to put the extracted elements. Then, we can take out the elements of the queue formed in a serial order and arrange the elements in the resultant required matrix in a row-by-row order again.\n",
    "\n",
    "The formation of the resultant matrix won't be possible if the number of elements in the original matrix isn't equal to the number of elements in the resultant matrix.\n",
    "\n",
    "**Complexity Analysis**\n",
    "\n",
    "- **Time complexity:** *O*(*m*⋅*n*). We traverse over *m*⋅*n* elements twice. Here, *m* and *n* refer to the number of rows and columns of the given matrix respectively.\n",
    "- **Space complexity:** *O*(*m*⋅*n*). The queue formed will be of size *m*⋅*n*."
   ]
  },
  {
   "cell_type": "code",
   "execution_count": 29,
   "id": "d48b70ea",
   "metadata": {},
   "outputs": [],
   "source": [
    "from collections import deque\n",
    "\n",
    "def matrixReshape(nums, r, c):\n",
    "    res = [[0] * c for _ in range(r)]\n",
    "    if len(nums) == 0 or r * c != len(nums) * len(nums[0]):\n",
    "        return nums\n",
    "    queue = deque()\n",
    "    for i in range(len(nums)):\n",
    "        for j in range(len(nums[0])):\n",
    "            queue.append(nums[i][j])\n",
    "    for i in range(r):\n",
    "        for j in range(c):\n",
    "            res[i][j] = queue.popleft()\n",
    "    return res"
   ]
  },
  {
   "cell_type": "code",
   "execution_count": 31,
   "id": "18652c0d",
   "metadata": {},
   "outputs": [
    {
     "name": "stdout",
     "output_type": "stream",
     "text": [
      "[[1, 2, 3, 4]]\n"
     ]
    }
   ],
   "source": [
    "mat = [[1, 2], [3, 4]]\n",
    "r = 1\n",
    "c = 4\n",
    "result = matrixReshape(mat, r, c)\n",
    "print(result)\n"
   ]
  },
  {
   "cell_type": "markdown",
   "id": "2d4dc3d8",
   "metadata": {},
   "source": [
    "**Q3**\n",
    "\n",
    "Given an n x n binary matrix image, flip the image **horizontally**, then invert it, and return *the resulting image*.\n",
    "\n",
    "To flip an image horizontally means that each row of the image is reversed.\n",
    "\n",
    "- For example, flipping [1,1,0] horizontally results in [0,1,1].\n",
    "\n",
    "To invert an image means that each 0 is replaced by 1, and each 1 is replaced by 0.\n",
    "\n",
    "- For example, inverting [0,1,1] results in [1,0,0].\n",
    "\n",
    "**Example 1:**\n",
    "\n",
    "**Input:** image = [[1,1,0],[1,0,1],[0,0,0]]\n",
    "\n",
    "**Output:** [[1,0,0],[0,1,0],[1,1,1]]\n",
    "\n",
    "**Explanation:** First reverse each row: [[0,1,1],[1,0,1],[0,0,0]].\n",
    "\n",
    "Then, invert the image: [[1,0,0],[0,1,0],[1,1,1]]\n",
    "\n",
    "**Solution:**\n",
    "\n",
    "**Intuition and Algorithm**\n",
    "\n",
    "We can do this in place. In each row, the ith value from the left is equal to the inverse of the ith value from the right.\n",
    "\n",
    "We use (C+1) / 2 (with floor division) to iterate over all indexes i in the first half of the row, including the center.\n",
    "\n",
    "**Complexity Analysis**\n",
    "\n",
    "**Time Complexity:** *O*(*N*), where N is the total number of elements in A.\n",
    "\n",
    "**Space Complexity:** *O*(1) in *additional* space complexity.\n"
   ]
  },
  {
   "cell_type": "code",
   "execution_count": 32,
   "id": "73b75e65",
   "metadata": {},
   "outputs": [],
   "source": [
    "def flipAndInvertImage(A):\n",
    "    C = len(A[0])\n",
    "    for row in A:\n",
    "        for i in range((C + 1) // 2):\n",
    "            tmp = row[i] ^ 1\n",
    "            row[i] = row[C - 1 - i] ^ 1\n",
    "            row[C - 1 - i] = tmp\n",
    "    return A"
   ]
  },
  {
   "cell_type": "code",
   "execution_count": 34,
   "id": "b0df0cd6",
   "metadata": {},
   "outputs": [
    {
     "name": "stdout",
     "output_type": "stream",
     "text": [
      "[[1, 0, 0], [0, 1, 0], [1, 1, 1]]\n"
     ]
    }
   ],
   "source": [
    "image = [[1,1,0],[1,0,1],[0,0,0]]\n",
    "result = flipAndInvertImage(image)\n",
    "print(result)\n"
   ]
  },
  {
   "cell_type": "code",
   "execution_count": null,
   "id": "78afd492",
   "metadata": {},
   "outputs": [],
   "source": []
  }
 ],
 "metadata": {
  "kernelspec": {
   "display_name": "Python 3 (ipykernel)",
   "language": "python",
   "name": "python3"
  },
  "language_info": {
   "codemirror_mode": {
    "name": "ipython",
    "version": 3
   },
   "file_extension": ".py",
   "mimetype": "text/x-python",
   "name": "python",
   "nbconvert_exporter": "python",
   "pygments_lexer": "ipython3",
   "version": "3.10.9"
  },
  "toc": {
   "base_numbering": 1,
   "nav_menu": {},
   "number_sections": true,
   "sideBar": true,
   "skip_h1_title": false,
   "title_cell": "Table of Contents",
   "title_sidebar": "Contents",
   "toc_cell": false,
   "toc_position": {},
   "toc_section_display": true,
   "toc_window_display": false
  },
  "varInspector": {
   "cols": {
    "lenName": 16,
    "lenType": 16,
    "lenVar": 40
   },
   "kernels_config": {
    "python": {
     "delete_cmd_postfix": "",
     "delete_cmd_prefix": "del ",
     "library": "var_list.py",
     "varRefreshCmd": "print(var_dic_list())"
    },
    "r": {
     "delete_cmd_postfix": ") ",
     "delete_cmd_prefix": "rm(",
     "library": "var_list.r",
     "varRefreshCmd": "cat(var_dic_list()) "
    }
   },
   "oldHeight": 421.844,
   "position": {
    "height": "33px",
    "left": "1096px",
    "right": "20px",
    "top": "120px",
    "width": "250px"
   },
   "types_to_exclude": [
    "module",
    "function",
    "builtin_function_or_method",
    "instance",
    "_Feature"
   ],
   "varInspector_section_display": "none",
   "window_display": false
  }
 },
 "nbformat": 4,
 "nbformat_minor": 5
}
